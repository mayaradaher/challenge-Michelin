{
 "cells": [
  {
   "cell_type": "code",
   "execution_count": 208,
   "metadata": {},
   "outputs": [],
   "source": [
    "import pandas as pd\n",
    "import numpy as np"
   ]
  },
  {
   "cell_type": "markdown",
   "metadata": {},
   "source": [
    "### Import dataset"
   ]
  },
  {
   "cell_type": "code",
   "execution_count": null,
   "metadata": {},
   "outputs": [],
   "source": [
    "df = pd.read_csv(\"data/raw/michelin_by_Jerry_Ng.csv\")"
   ]
  },
  {
   "cell_type": "markdown",
   "metadata": {},
   "source": [
    "### Exploratory data analysis"
   ]
  },
  {
   "cell_type": "code",
   "execution_count": 210,
   "metadata": {},
   "outputs": [
    {
     "data": {
      "text/html": [
       "<div>\n",
       "<style scoped>\n",
       "    .dataframe tbody tr th:only-of-type {\n",
       "        vertical-align: middle;\n",
       "    }\n",
       "\n",
       "    .dataframe tbody tr th {\n",
       "        vertical-align: top;\n",
       "    }\n",
       "\n",
       "    .dataframe thead th {\n",
       "        text-align: right;\n",
       "    }\n",
       "</style>\n",
       "<table border=\"1\" class=\"dataframe\">\n",
       "  <thead>\n",
       "    <tr style=\"text-align: right;\">\n",
       "      <th></th>\n",
       "      <th>Name</th>\n",
       "      <th>Address</th>\n",
       "      <th>Location</th>\n",
       "      <th>Price</th>\n",
       "      <th>Cuisine</th>\n",
       "      <th>Longitude</th>\n",
       "      <th>Latitude</th>\n",
       "      <th>PhoneNumber</th>\n",
       "      <th>Url</th>\n",
       "      <th>WebsiteUrl</th>\n",
       "      <th>Award</th>\n",
       "      <th>GreenStar</th>\n",
       "      <th>FacilitiesAndServices</th>\n",
       "      <th>Description</th>\n",
       "    </tr>\n",
       "  </thead>\n",
       "  <tbody>\n",
       "    <tr>\n",
       "      <th>0</th>\n",
       "      <td>Taïrroir</td>\n",
       "      <td>6F, 299 Lequn 3rd Road, Zhongshan District, Ta...</td>\n",
       "      <td>Taipei, Taiwan</td>\n",
       "      <td>$$$$</td>\n",
       "      <td>Taiwanese contemporary</td>\n",
       "      <td>121.559303</td>\n",
       "      <td>25.082896</td>\n",
       "      <td>8.862850e+11</td>\n",
       "      <td>https://guide.michelin.com/en/taipei-region/ta...</td>\n",
       "      <td>https://www.tairroir.com/</td>\n",
       "      <td>3 Stars</td>\n",
       "      <td>0</td>\n",
       "      <td>Air conditioning,Wheelchair access</td>\n",
       "      <td>A portmanteau of Taiwan and terroir, Taïrroir ...</td>\n",
       "    </tr>\n",
       "    <tr>\n",
       "      <th>1</th>\n",
       "      <td>JL Studio</td>\n",
       "      <td>2F, 689, Section 4, Yifeng Road, Nantun Distri...</td>\n",
       "      <td>Taichung, Taiwan</td>\n",
       "      <td>$$$$</td>\n",
       "      <td>Singaporean, Contemporary</td>\n",
       "      <td>120.628520</td>\n",
       "      <td>24.150486</td>\n",
       "      <td>8.864238e+11</td>\n",
       "      <td>https://guide.michelin.com/en/taichung-region/...</td>\n",
       "      <td>https://jlstudiotw.com</td>\n",
       "      <td>3 Stars</td>\n",
       "      <td>0</td>\n",
       "      <td>Air conditioning,Car park,Wheelchair access</td>\n",
       "      <td>JL stands for Jimmy Lim, a Singaporean chef wh...</td>\n",
       "    </tr>\n",
       "    <tr>\n",
       "      <th>2</th>\n",
       "      <td>Le Palais</td>\n",
       "      <td>17F, Palais de Chine Hotel, 3, Section 1, Chen...</td>\n",
       "      <td>Taipei, Taiwan</td>\n",
       "      <td>$$$$</td>\n",
       "      <td>Cantonese</td>\n",
       "      <td>121.516889</td>\n",
       "      <td>25.049163</td>\n",
       "      <td>8.862218e+11</td>\n",
       "      <td>https://guide.michelin.com/en/taipei-region/ta...</td>\n",
       "      <td>https://www.palaisdechinehotel.com/pdc-en/page...</td>\n",
       "      <td>3 Stars</td>\n",
       "      <td>0</td>\n",
       "      <td>Air conditioning,Car park,Wheelchair access</td>\n",
       "      <td>After the departure of the Macanese chef, the ...</td>\n",
       "    </tr>\n",
       "  </tbody>\n",
       "</table>\n",
       "</div>"
      ],
      "text/plain": [
       "        Name                                            Address  \\\n",
       "0   Taïrroir  6F, 299 Lequn 3rd Road, Zhongshan District, Ta...   \n",
       "1  JL Studio  2F, 689, Section 4, Yifeng Road, Nantun Distri...   \n",
       "2  Le Palais  17F, Palais de Chine Hotel, 3, Section 1, Chen...   \n",
       "\n",
       "           Location Price                    Cuisine   Longitude   Latitude  \\\n",
       "0    Taipei, Taiwan  $$$$     Taiwanese contemporary  121.559303  25.082896   \n",
       "1  Taichung, Taiwan  $$$$  Singaporean, Contemporary  120.628520  24.150486   \n",
       "2    Taipei, Taiwan  $$$$                  Cantonese  121.516889  25.049163   \n",
       "\n",
       "    PhoneNumber                                                Url  \\\n",
       "0  8.862850e+11  https://guide.michelin.com/en/taipei-region/ta...   \n",
       "1  8.864238e+11  https://guide.michelin.com/en/taichung-region/...   \n",
       "2  8.862218e+11  https://guide.michelin.com/en/taipei-region/ta...   \n",
       "\n",
       "                                          WebsiteUrl    Award  GreenStar  \\\n",
       "0                          https://www.tairroir.com/  3 Stars          0   \n",
       "1                             https://jlstudiotw.com  3 Stars          0   \n",
       "2  https://www.palaisdechinehotel.com/pdc-en/page...  3 Stars          0   \n",
       "\n",
       "                         FacilitiesAndServices  \\\n",
       "0           Air conditioning,Wheelchair access   \n",
       "1  Air conditioning,Car park,Wheelchair access   \n",
       "2  Air conditioning,Car park,Wheelchair access   \n",
       "\n",
       "                                         Description  \n",
       "0  A portmanteau of Taiwan and terroir, Taïrroir ...  \n",
       "1  JL stands for Jimmy Lim, a Singaporean chef wh...  \n",
       "2  After the departure of the Macanese chef, the ...  "
      ]
     },
     "execution_count": 210,
     "metadata": {},
     "output_type": "execute_result"
    }
   ],
   "source": [
    "df.head(3)"
   ]
  },
  {
   "cell_type": "code",
   "execution_count": 211,
   "metadata": {},
   "outputs": [
    {
     "data": {
      "text/plain": [
       "(15520, 14)"
      ]
     },
     "execution_count": 211,
     "metadata": {},
     "output_type": "execute_result"
    }
   ],
   "source": [
    "df.shape"
   ]
  },
  {
   "cell_type": "code",
   "execution_count": 212,
   "metadata": {},
   "outputs": [
    {
     "name": "stdout",
     "output_type": "stream",
     "text": [
      "<class 'pandas.core.frame.DataFrame'>\n",
      "RangeIndex: 15520 entries, 0 to 15519\n",
      "Data columns (total 14 columns):\n",
      " #   Column                 Non-Null Count  Dtype  \n",
      "---  ------                 --------------  -----  \n",
      " 0   Name                   15520 non-null  object \n",
      " 1   Address                15520 non-null  object \n",
      " 2   Location               15520 non-null  object \n",
      " 3   Price                  15519 non-null  object \n",
      " 4   Cuisine                15519 non-null  object \n",
      " 5   Longitude              15520 non-null  float64\n",
      " 6   Latitude               15520 non-null  float64\n",
      " 7   PhoneNumber            15182 non-null  float64\n",
      " 8   Url                    15520 non-null  object \n",
      " 9   WebsiteUrl             13245 non-null  object \n",
      " 10  Award                  15520 non-null  object \n",
      " 11  GreenStar              15520 non-null  int64  \n",
      " 12  FacilitiesAndServices  14665 non-null  object \n",
      " 13  Description            15519 non-null  object \n",
      "dtypes: float64(3), int64(1), object(10)\n",
      "memory usage: 1.7+ MB\n"
     ]
    }
   ],
   "source": [
    "df.info()  # data type"
   ]
  },
  {
   "cell_type": "code",
   "execution_count": 213,
   "metadata": {},
   "outputs": [
    {
     "data": {
      "text/plain": [
       "Award\n",
       "Selected Restaurants    10484\n",
       "Bib Gourmand             3238\n",
       "1 Star                   1160\n",
       "2 Stars                   493\n",
       "3 Stars                   145\n",
       "Name: count, dtype: int64"
      ]
     },
     "execution_count": 213,
     "metadata": {},
     "output_type": "execute_result"
    }
   ],
   "source": [
    "df[\n",
    "    \"Award\"\n",
    "].value_counts()"
   ]
  },
  {
   "cell_type": "code",
   "execution_count": 214,
   "metadata": {},
   "outputs": [
    {
     "data": {
      "text/plain": [
       "GreenStar\n",
       "0    15279\n",
       "1      241\n",
       "Name: count, dtype: int64"
      ]
     },
     "execution_count": 214,
     "metadata": {},
     "output_type": "execute_result"
    }
   ],
   "source": [
    "df[\n",
    "    \"GreenStar\"\n",
    "].value_counts()"
   ]
  },
  {
   "cell_type": "code",
   "execution_count": 215,
   "metadata": {},
   "outputs": [
    {
     "data": {
      "text/plain": [
       "14980"
      ]
     },
     "execution_count": 215,
     "metadata": {},
     "output_type": "execute_result"
    }
   ],
   "source": [
    "df[\n",
    "    \"Name\"\n",
    "].nunique()"
   ]
  },
  {
   "cell_type": "code",
   "execution_count": 216,
   "metadata": {},
   "outputs": [
    {
     "data": {
      "text/plain": [
       "Cuisine\n",
       "Modern Cuisine           2425\n",
       "Traditional Cuisine       760\n",
       "Creative                  461\n",
       "Japanese                  458\n",
       "Italian                   404\n",
       "Contemporary              400\n",
       "Seafood                   353\n",
       "French                    319\n",
       "Street Food               308\n",
       "Modern British            252\n",
       "Mediterranean Cuisine     210\n",
       "Classic Cuisine           206\n",
       "Farm to table             195\n",
       "Thai                      171\n",
       "Cantonese                 165\n",
       "Name: count, dtype: int64"
      ]
     },
     "execution_count": 216,
     "metadata": {},
     "output_type": "execute_result"
    }
   ],
   "source": [
    "df[\n",
    "    \"Cuisine\"\n",
    "].value_counts().head(15)"
   ]
  },
  {
   "cell_type": "code",
   "execution_count": 217,
   "metadata": {},
   "outputs": [
    {
     "data": {
      "text/plain": [
       "Price\n",
       "€€      4675\n",
       "€€€     2773\n",
       "€€€€    1278\n",
       "$$      1155\n",
       "$$$      838\n",
       "$$$$     625\n",
       "¥¥¥      573\n",
       "€        553\n",
       "$        495\n",
       "££       451\n",
       "¥¥       414\n",
       "£££      301\n",
       "฿฿       210\n",
       "¥        198\n",
       "¥¥¥¥     156\n",
       "฿        128\n",
       "££££     116\n",
       "₩         87\n",
       "₫         76\n",
       "฿฿฿       71\n",
       "₩₩        57\n",
       "₫₫        48\n",
       "₺₺        46\n",
       "₩₩₩       32\n",
       "₩₩₩₩      31\n",
       "฿฿฿฿      29\n",
       "₫₫₫       25\n",
       "₺₺₺       20\n",
       "₫₫₫₫      15\n",
       "₺₺₺₺      15\n",
       "£         14\n",
       "₺         14\n",
       "Name: count, dtype: int64"
      ]
     },
     "execution_count": 217,
     "metadata": {},
     "output_type": "execute_result"
    }
   ],
   "source": [
    "df[\n",
    "    \"Price\"\n",
    "].value_counts()"
   ]
  },
  {
   "cell_type": "markdown",
   "metadata": {},
   "source": [
    "### Data cleaning"
   ]
  },
  {
   "cell_type": "code",
   "execution_count": 218,
   "metadata": {},
   "outputs": [],
   "source": [
    "# Drop columns\n",
    "df = df.drop(columns=['PhoneNumber', 'Url', 'WebsiteUrl', 'FacilitiesAndServices', 'Description'])"
   ]
  },
  {
   "cell_type": "code",
   "execution_count": 219,
   "metadata": {},
   "outputs": [],
   "source": [
    "# Remove rows with NA values ​​only from columns \"Price\" and \"Cuisine\"\n",
    "df = df.dropna(subset=[\"Price\", \"Cuisine\"])"
   ]
  },
  {
   "cell_type": "code",
   "execution_count": 220,
   "metadata": {},
   "outputs": [],
   "source": [
    "# Insert new column with price in dollars only\n",
    "def convert_to_dollars(price):\n",
    "    return \"$\" * len(price)\n",
    "\n",
    "df[\"Price_dollar\"] = df[\"Price\"].apply(convert_to_dollars)"
   ]
  },
  {
   "cell_type": "code",
   "execution_count": 221,
   "metadata": {},
   "outputs": [],
   "source": [
    "# Change 0 and 1 in the \"GreenStar\" column to Yes and No\n",
    "df[\"GreenStar\"] = df[\"GreenStar\"].replace({0: \"No\", 1: \"Yes\"})"
   ]
  },
  {
   "cell_type": "code",
   "execution_count": 222,
   "metadata": {},
   "outputs": [],
   "source": [
    "# Remove all cuisine types after comma\n",
    "df[\"Cuisine\"] = df[\"Cuisine\"].str.split(\",\").str[0].str.strip()"
   ]
  },
  {
   "cell_type": "code",
   "execution_count": 223,
   "metadata": {},
   "outputs": [
    {
     "data": {
      "text/plain": [
       "259"
      ]
     },
     "execution_count": 223,
     "metadata": {},
     "output_type": "execute_result"
    }
   ],
   "source": [
    "df[\n",
    "    \"Cuisine\"\n",
    "].nunique()"
   ]
  },
  {
   "cell_type": "markdown",
   "metadata": {},
   "source": [
    "### Create columns"
   ]
  },
  {
   "cell_type": "code",
   "execution_count": 224,
   "metadata": {},
   "outputs": [],
   "source": [
    "# Split \"Location\" column\n",
    "df[['City', 'Country']] = df['Location'].str.split(',', n=1, expand=True).apply(lambda x: x.str.strip())"
   ]
  },
  {
   "cell_type": "code",
   "execution_count": 225,
   "metadata": {},
   "outputs": [
    {
     "data": {
      "text/html": [
       "<div>\n",
       "<style scoped>\n",
       "    .dataframe tbody tr th:only-of-type {\n",
       "        vertical-align: middle;\n",
       "    }\n",
       "\n",
       "    .dataframe tbody tr th {\n",
       "        vertical-align: top;\n",
       "    }\n",
       "\n",
       "    .dataframe thead th {\n",
       "        text-align: right;\n",
       "    }\n",
       "</style>\n",
       "<table border=\"1\" class=\"dataframe\">\n",
       "  <thead>\n",
       "    <tr style=\"text-align: right;\">\n",
       "      <th></th>\n",
       "      <th>City</th>\n",
       "      <th>Country</th>\n",
       "    </tr>\n",
       "  </thead>\n",
       "  <tbody>\n",
       "    <tr>\n",
       "      <th>9</th>\n",
       "      <td>Singapore</td>\n",
       "      <td>None</td>\n",
       "    </tr>\n",
       "    <tr>\n",
       "      <th>67</th>\n",
       "      <td>Hong Kong</td>\n",
       "      <td>None</td>\n",
       "    </tr>\n",
       "    <tr>\n",
       "      <th>70</th>\n",
       "      <td>Macau</td>\n",
       "      <td>None</td>\n",
       "    </tr>\n",
       "    <tr>\n",
       "      <th>163</th>\n",
       "      <td>Dubai</td>\n",
       "      <td>None</td>\n",
       "    </tr>\n",
       "    <tr>\n",
       "      <th>3314</th>\n",
       "      <td>Luxembourg</td>\n",
       "      <td>None</td>\n",
       "    </tr>\n",
       "    <tr>\n",
       "      <th>3811</th>\n",
       "      <td>Abu Dhabi</td>\n",
       "      <td>None</td>\n",
       "    </tr>\n",
       "  </tbody>\n",
       "</table>\n",
       "</div>"
      ],
      "text/plain": [
       "            City Country\n",
       "9      Singapore    None\n",
       "67     Hong Kong    None\n",
       "70         Macau    None\n",
       "163        Dubai    None\n",
       "3314  Luxembourg    None\n",
       "3811   Abu Dhabi    None"
      ]
     },
     "execution_count": 225,
     "metadata": {},
     "output_type": "execute_result"
    }
   ],
   "source": [
    "# Identify rows with NA\n",
    "df[df['Country'].isna()][['City', 'Country']].drop_duplicates()\n"
   ]
  },
  {
   "cell_type": "code",
   "execution_count": 226,
   "metadata": {},
   "outputs": [],
   "source": [
    "location = {\"Singapore\": \"Republic of Singapore\",\n",
    "              \"Hong Kong\": \"Hong Kong SAR China\",\n",
    "              \"Macau\": \"Macau SAR China\",\n",
    "              \"Dubai\": \"United Arab Emirates\",\n",
    "              \"Abu Dhabi\": \"United Arab Emirates\",\n",
    "              \"Luxembourg\": \"Luxembourg\",\n",
    "              }\n",
    "\n",
    "# Replace values ​​in the 'Country' column where they are NA\n",
    "df['Country'] = df['Country'].fillna(df['City'].map(location))"
   ]
  },
  {
   "cell_type": "code",
   "execution_count": 227,
   "metadata": {},
   "outputs": [],
   "source": [
    "# Replaces \"Luxembourg\" with NA in 'City' where 'City' and 'Country' are both \"Luxembourg\"\n",
    "df.loc[df[['City', 'Country']].eq(\"Luxembourg\").all(axis=1), 'City'] = np.nan\n"
   ]
  },
  {
   "cell_type": "code",
   "execution_count": 228,
   "metadata": {},
   "outputs": [],
   "source": [
    "award_info_en = {\"3 Stars\": \"Exceptional cuisine\",\n",
    "              \"2 Stars\": \"Excellent cooking\",\n",
    "              \"1 Star\": \"High quality cooking\",\n",
    "              \"Bib Gourmand\": \"Good quality, good value cooking\",\n",
    "              \"Selected Restaurants\": \"Good cooking\",\n",
    "              }\n",
    "\n",
    "df[\"Award_info_en\"] = df[\"Award\"].map(award_info_en)"
   ]
  },
  {
   "cell_type": "code",
   "execution_count": 229,
   "metadata": {},
   "outputs": [],
   "source": [
    "award_info_br = {\"3 Stars\": \"Cozinha excepcional\",\n",
    "              \"2 Stars\": \"Cozinha excelente\",\n",
    "              \"1 Star\": \"Cozinha requintada\",\n",
    "              \"Bib Gourmand\": \"Melhor relação qualidade-preço \",\n",
    "              \"Selected Restaurants\": \"Boa cozinha\",\n",
    "              }\n",
    "\n",
    "df[\"Award_info_br\"] = df[\"Award\"].map(award_info_br)"
   ]
  },
  {
   "cell_type": "markdown",
   "metadata": {},
   "source": [
    "### Translate columns"
   ]
  },
  {
   "cell_type": "markdown",
   "metadata": {},
   "source": [
    "#### Country"
   ]
  },
  {
   "cell_type": "code",
   "execution_count": 230,
   "metadata": {},
   "outputs": [
    {
     "name": "stdout",
     "output_type": "stream",
     "text": [
      "['Taiwan' 'USA' 'Republic of Singapore' 'Slovenia' 'Sweden' 'Denmark'\n",
      " 'Norway' 'Japan' 'Germany' 'France' 'Hong Kong SAR China'\n",
      " 'Macau SAR China' 'Belgium' 'United Kingdom' 'Spain' 'China Mainland'\n",
      " 'Italy' 'Switzerland' 'Netherlands' 'Austria' 'United Arab Emirates'\n",
      " 'Croatia' 'Poland' 'Finland' 'Estonia' 'Brazil' 'Mexico' 'Malta'\n",
      " 'Portugal' 'Luxembourg' 'South Korea' 'Ireland' 'Thailand' 'Argentina'\n",
      " 'Malaysia' 'Türkiye' 'Greece' 'Canada' 'Hungary' 'Vietnam' 'Lithuania'\n",
      " 'Iceland' 'Serbia' 'Latvia' 'Czech Republic' 'Czechia' 'Andorra']\n"
     ]
    }
   ],
   "source": [
    "unique_award = df[\"Country\"].unique()\n",
    "print(unique_award)"
   ]
  },
  {
   "cell_type": "code",
   "execution_count": 231,
   "metadata": {},
   "outputs": [],
   "source": [
    "country_br = {\n",
    "    \"Taiwan\": \"Taiwan\",\n",
    "    \"USA\": \"Estados Unidos\",\n",
    "    \"Republic of Singapore\": \"República de Singapura\",\n",
    "    \"Slovenia\": \"Eslovênia\",\n",
    "    \"Sweden\": \"Suécia\",\n",
    "    \"Denmark\": \"Dinamarca\",\n",
    "    \"Norway\": \"Noruega\",\n",
    "    \"Japan\": \"Japão\",\n",
    "    \"Germany\": \"Alemanha\",\n",
    "    \"France\": \"França\",\n",
    "    \"Hong Kong SAR China\": \"Hong Kong (RAE China)\",\n",
    "    \"Macau SAR China\": \"Macau (RAE China)\",\n",
    "    \"Belgium\": \"Bélgica\",\n",
    "    \"United Kingdom\": \"Reino Unido\",\n",
    "    \"Spain\": \"Espanha\",\n",
    "    \"China Mainland\": \"China Continental\",\n",
    "    \"Italy\": \"Itália\",\n",
    "    \"Switzerland\": \"Suíça\",\n",
    "    \"Netherlands\": \"Países Baixos\",\n",
    "    \"Austria\": \"Áustria\",\n",
    "    \"United Arab Emirates\": \"Emirados Árabes Unidos\",\n",
    "    \"Croatia\": \"Croácia\",\n",
    "    \"Poland\": \"Polônia\",\n",
    "    \"Finland\": \"Finlândia\",\n",
    "    \"Estonia\": \"Estônia\",\n",
    "    \"Brazil\": \"Brasil\",\n",
    "    \"Mexico\": \"México\",\n",
    "    \"Malta\": \"Malta\",\n",
    "    \"Portugal\": \"Portugal\",\n",
    "    \"Luxembourg\": \"Luxemburgo\",\n",
    "    \"South Korea\": \"Coreia do Sul\",\n",
    "    \"Ireland\": \"Irlanda\",\n",
    "    \"Thailand\": \"Tailândia\",\n",
    "    \"Argentina\": \"Argentina\",\n",
    "    \"Malaysia\": \"Malásia\",\n",
    "    \"Türkiye\": \"Turquia\",\n",
    "    \"Greece\": \"Grécia\",\n",
    "    \"Canada\": \"Canadá\",\n",
    "    \"Hungary\": \"Hungria\",\n",
    "    \"Vietnam\": \"Vietnã\",\n",
    "    \"Lithuania\": \"Lituânia\",\n",
    "    \"Iceland\": \"Islândia\",\n",
    "    \"Serbia\": \"Sérvia\",\n",
    "    \"Latvia\": \"Letônia\",\n",
    "    \"Czech Republic\": \"República Tcheca\",\n",
    "    \"Czechia\": \"Tchéquia\",\n",
    "    \"Andorra\": \"Andorra\"\n",
    "}\n",
    "\n",
    "# Creste column \"Country_br\"\n",
    "df[\"Country_br\"] = df[\"Country\"].map(country_br)"
   ]
  },
  {
   "cell_type": "code",
   "execution_count": 232,
   "metadata": {},
   "outputs": [],
   "source": [
    "df[\"Location_br\"] = df[\"City\"] + \", \" + df[\"Country_br\"]"
   ]
  },
  {
   "cell_type": "markdown",
   "metadata": {},
   "source": [
    "#### Cuisine"
   ]
  },
  {
   "cell_type": "code",
   "execution_count": 233,
   "metadata": {},
   "outputs": [
    {
     "name": "stdout",
     "output_type": "stream",
     "text": [
      "['Taiwanese contemporary' 'Singaporean' 'Cantonese' 'Contemporary' 'Asian'\n",
      " 'European Contemporary' 'French Contemporary' 'French' 'Creative'\n",
      " 'Modern Cuisine' 'Japanese' 'Innovative' 'Classic French' 'Modern French'\n",
      " 'Seafood' 'Classic Cuisine' 'Mediterranean Cuisine' 'Italian' 'Sushi'\n",
      " 'Creative French' 'Creative British' 'Modern British' 'Chinese'\n",
      " 'Italian Contemporary' 'American' 'Vegan' 'Chao Zhou' 'Taizhou'\n",
      " 'Vegetarian' 'Spanish Contemporary' 'Asian Contemporary' 'Tempura'\n",
      " 'Mexican' 'Californian' 'Indian' 'British Contemporary' 'Scandinavian'\n",
      " 'Hunanese' 'Huaiyang' 'Traditional Cuisine' 'Asian Influences' 'Korean'\n",
      " 'Turkish' 'Traditional British' 'Thai contemporary' 'German'\n",
      " 'Southern Thai' 'Thai' 'Spanish' 'Malaysian' 'Country cooking'\n",
      " 'International' 'Piedmontese' 'Beijing Cuisine' 'Shanghainese' 'Sharing'\n",
      " 'Farm to table' 'Japanese Contemporary' 'Sichuan' 'Organic'\n",
      " 'Latin American' 'Taiwanese' 'Hang Zhou' 'Barbecue' 'Steakhouse'\n",
      " 'Portuguese' 'Indian Vegetarian' 'Vietnamese Contemporary' 'Teppanyaki'\n",
      " 'Vietnamese' 'Teochew' 'Korean Contemporary' 'Street Food' 'Peranakan'\n",
      " 'European' 'Dim Sum' 'Fujian' 'Grills' 'Norwegian' 'Zhejiang'\n",
      " 'Chinese Contemporary' 'Peruvian' 'Colombian' 'Fusion'\n",
      " 'Fugu / Pufferfish' 'Yakitori' 'Seasonal Cuisine' 'Austrian' 'Israeli'\n",
      " 'Regional Cuisine' 'Provençal' 'Greek' 'Noodles' 'Small eats' 'Dumplings'\n",
      " 'Indonesian' 'Congee' 'Jiangzhe' 'Hakkanese' 'Pizza' 'Filipino'\n",
      " 'Southern' 'Gastropub' 'Deli' 'Italian-American' 'Middle Eastern'\n",
      " 'Burmese' 'Pakistani' 'Ethiopian' 'South East Asian' 'Lebanese'\n",
      " 'Asian and Western' 'Persian' 'Balkan' 'Emirati Cuisine'\n",
      " 'Meats and Grills' 'South American' 'Regional European' 'Xibei'\n",
      " 'Noodles and Congee' 'Swedish' 'Smørrebrød' 'Danish' 'Brazilian'\n",
      " 'Unagi / Freshwater Eel' 'Soba' 'Kushiage' 'Ramen' 'Ningbo' 'Cuban'\n",
      " 'Nepali' 'Bakery' 'Izakaya' 'Tonkatsu' 'Udon' 'Oden' 'Yoshoku' 'Shojin'\n",
      " 'Obanzai' 'World Cuisine' 'Alpine' 'Home Cooking' 'Savoyard' 'Corsican'\n",
      " 'Alsatian' 'Catalan' 'Breton' 'Cantonese Roast Meats' 'Chiu Chow'\n",
      " 'Macanese' 'Singaporean and Malaysian' 'Xinjiang' 'Shun Tak' 'Belgian'\n",
      " 'Cuisine from South West France' 'Dwaeji-gukbap' 'Gomtang' 'Naengmyeon'\n",
      " 'Chueotang' 'Gejang' 'Yukhoe' 'Bulgogi' 'Memil-guksu' 'Mandu'\n",
      " 'Seolleongtang' 'Dubu' 'Jokbal' 'Doganitang' 'Kalguksu' 'Sujebi'\n",
      " 'South Indian' 'North African' 'Creole' 'Scottish' 'South African'\n",
      " 'Sri Lankan' 'Isan' 'Thai-Chinese' 'Northern Thai' 'Onigiri' 'Pork'\n",
      " 'Galician' 'Rice Dishes' 'Basque' 'Andalusian' 'Argentinian' 'Tuscan'\n",
      " 'Venetian' 'Emilian' 'Cuisine from Valtellina' 'Sicilian'\n",
      " 'Cuisine from Abruzzo' 'Sardinian' 'Cuisine from the Marches'\n",
      " 'Lombardian' 'Apulian' 'Mantuan' 'Roman' 'Cuisine from Basilicata'\n",
      " 'Umbrian' 'Ligurian' 'South Tyrolean' 'Cuisine from Lazio' 'Campanian'\n",
      " 'Friulian' 'Cuisine from Romagna' 'Calabrian'\n",
      " 'Cuisine from the Aosta Valley' 'Caribbean' 'Afghan' 'Tibetan' 'Tex-Mex'\n",
      " 'Central Asian' 'Croatian' 'Czech' 'Polish' 'Hotpot' 'Shandong' 'Hubei'\n",
      " 'Swiss' 'Hungarian' 'Yunnanese' 'Shabu-shabu' 'Sukiyaki' 'Armenian'\n",
      " 'Puerto Rican' 'Moroccan' 'Meats and Seafood' 'Asturian' 'Lyonnaise'\n",
      " 'American Contemporary' 'Hainanese' 'Finnish' 'Italian and Japanese'\n",
      " 'Chicken Specialities' 'Beef' 'Eastern European' 'Lao'\n",
      " 'Duck Specialities' 'Bavarian' 'African' 'Swabian' 'Burgundian' 'Cheese'\n",
      " 'Australian Contemporary' 'Flemish' 'Irish' 'Castilian'\n",
      " 'Lamb Specialities' 'Japanese Steakhouse' 'Hui Cuisine' 'Milanese'\n",
      " 'Russian' 'English' 'Jamaican' 'Venezuelan' 'Hawaiian' 'North American'\n",
      " 'Egyptian']\n"
     ]
    }
   ],
   "source": [
    "unique_cuisines = df[\"Cuisine\"].unique()\n",
    "print(unique_cuisines)"
   ]
  },
  {
   "cell_type": "code",
   "execution_count": 234,
   "metadata": {},
   "outputs": [],
   "source": [
    "cuisine_br = {\n",
    "    \"Taiwanese contemporary\": \"Taiwanesa contemporânea\",\n",
    "    \"Singaporean\": \"Singapurense\",\n",
    "    \"Cantonese\": \"Cantonês\",\n",
    "    \"Contemporary\": \"Contemporânea\",\n",
    "    \"Asian\": \"Asiática\",\n",
    "    \"European Contemporary\": \"Europeia Contemporânea\",\n",
    "    \"French Contemporary\": \"Francesa Contemporânea\",\n",
    "    \"French\": \"Francesa\",\n",
    "    \"Creative\": \"Criativa\",\n",
    "    \"Modern Cuisine\": \"Culinária Moderna\",\n",
    "    \"Japanese\": \"Japonesa\",\n",
    "    \"Innovative\": \"Inovadora\",\n",
    "    \"Classic French\": \"Francesa Clássica\",\n",
    "    \"Modern French\": \"Francesa Moderna\",\n",
    "    \"Seafood\": \"Frutos do Mar\",\n",
    "    \"Classic Cuisine\": \"Culinária Clássica\",\n",
    "    \"Mediterranean Cuisine\": \"Culinária Mediterrânea\",\n",
    "    \"Italian\": \"Italiana\",\n",
    "    \"Sushi\": \"Sushi\",\n",
    "    \"Creative French\": \"Francesa Criativa\",\n",
    "    \"Creative British\": \"Britânica Criativa\",\n",
    "    \"Modern British\": \"Britânica Moderna\",\n",
    "    \"Chinese\": \"Chinesa\",\n",
    "    \"Italian Contemporary\": \"Italiana Contemporânea\",\n",
    "    \"American\": \"Americana\",\n",
    "    \"Vegan\": \"Vegana\",\n",
    "    \"Chao Zhou\": \"Chao Zhou\",\n",
    "    \"Taizhou\": \"Taizhou\",\n",
    "    \"Vegetarian\": \"Vegetariana\",\n",
    "    \"Spanish Contemporary\": \"Espanhola Contemporânea\",\n",
    "    \"Asian Contemporary\": \"Asiática Contemporânea\",\n",
    "    \"Tempura\": \"Tempura\",\n",
    "    \"Mexican\": \"Mexicana\",\n",
    "    \"Californian\": \"Californiana\",\n",
    "    \"Indian\": \"Indiana\",\n",
    "    \"British Contemporary\": \"Britânica Contemporânea\",\n",
    "    \"Scandinavian\": \"Escandinava\",\n",
    "    \"Hunanese\": \"Hunanesa\",\n",
    "    \"Huaiyang\": \"Huaiyang\",\n",
    "    \"Traditional Cuisine\": \"Culinária Tradicional\",\n",
    "    \"Asian Influences\": \"Influências Asiáticas\",\n",
    "    \"Korean\": \"Coreana\",\n",
    "    \"Turkish\": \"Turca\",\n",
    "    \"Traditional British\": \"Britânica Tradicional\",\n",
    "    \"Thai contemporary\": \"Tailandesa contemporânea\",\n",
    "    \"German\": \"Alemã\",\n",
    "    \"Southern Thai\": \"Tailandesa do Sul\",\n",
    "    \"Thai\": \"Tailandesa\",\n",
    "    \"Spanish\": \"Espanhola\",\n",
    "    \"Malaysian\": \"Malaia\",\n",
    "    \"Country cooking\": \"Culinária Caseira\",\n",
    "    \"International\": \"Internacional\",\n",
    "    \"Piedmontese\": \"Piemontesa\",\n",
    "    \"Beijing Cuisine\": \"Culinária de Pequim\",\n",
    "    \"Shanghainese\": \"Xangainesa\",\n",
    "    \"Sharing\": \"Compartilhada\",\n",
    "    \"Farm to table\": \"Da Fazenda à Mesa\",\n",
    "    \"Japanese Contemporary\": \"Japonesa Contemporânea\",\n",
    "    \"Sichuan\": \"Sichuan\",\n",
    "    \"Organic\": \"Orgânica\",\n",
    "    \"Latin American\": \"Latino-Americana\",\n",
    "    \"Taiwanese\": \"Taiwanesa\",\n",
    "    \"Hang Zhou\": \"Hang Zhou\",\n",
    "    \"Barbecue\": \"Churrasco\",\n",
    "    \"Steakhouse\": \"Churrascaria\",\n",
    "    \"Portuguese\": \"Portuguesa\",\n",
    "    \"Indian Vegetarian\": \"Indiana Vegetariana\",\n",
    "    \"Vietnamese Contemporary\": \"Vietnamita Contemporânea\",\n",
    "    \"Teppanyaki\": \"Teppanyaki\",\n",
    "    \"Vietnamese\": \"Vietnamita\",\n",
    "    \"Teochew\": \"Teochew\",\n",
    "    \"Korean Contemporary\": \"Coreana Contemporânea\",\n",
    "    \"Street Food\": \"Comida de Rua\",\n",
    "    \"Peranakan\": \"Peranakan\",\n",
    "    \"European\": \"Europeia\",\n",
    "    \"Dim Sum\": \"Dim Sum\",\n",
    "    \"Fujian\": \"Fujian\",\n",
    "    \"Grills\": \"Grelhados\",\n",
    "    \"Norwegian\": \"Norueguesa\",\n",
    "    \"Zhejiang\": \"Zhejiang\",\n",
    "    \"Chinese Contemporary\": \"Chinesa Contemporânea\",\n",
    "    \"Peruvian\": \"Peruana\",\n",
    "    \"Colombian\": \"Colombiana\",\n",
    "    \"Fusion\": \"Fusão\",\n",
    "    \"Fugu / Pufferfish\": \"Fugu / Baiacu\",\n",
    "    \"Yakitori\": \"Yakitori\",\n",
    "    \"Seasonal Cuisine\": \"Culinária Sazonal\",\n",
    "    \"Austrian\": \"Austríaca\",\n",
    "    \"Israeli\": \"Israelense\",\n",
    "    \"Regional Cuisine\": \"Culinária Regional\",\n",
    "    \"Provençal\": \"Provençal\",\n",
    "    \"Greek\": \"Grega\",\n",
    "    \"Noodles\": \"Macarrão\",\n",
    "    \"Small eats\": \"Pequenos Pratos\",\n",
    "    \"Dumplings\": \"Bolinho de Massa\",\n",
    "    \"Indonesian\": \"Indonésia\",\n",
    "    \"Congee\": \"Congee\",\n",
    "    \"Jiangzhe\": \"Jiangzhe\",\n",
    "    \"Hakkanese\": \"Hakkanesa\",\n",
    "    \"Pizza\": \"Pizza\",\n",
    "    \"Filipino\": \"Filipina\",\n",
    "    \"Southern\": \"Sulista\",\n",
    "    \"Gastropub\": \"Gastropub\",\n",
    "    \"Deli\": \"Delicatessen\",\n",
    "    \"Italian-American\": \"Italo-Americana\",\n",
    "    \"Middle Eastern\": \"Oriente Médio\",\n",
    "    \"Burmese\": \"Birmanesa\",\n",
    "    \"Pakistani\": \"Paquistanesa\",\n",
    "    \"Ethiopian\": \"Etíope\",\n",
    "    \"South East Asian\": \"Sudeste Asiático\",\n",
    "    \"Lebanese\": \"Libanesa\",\n",
    "    \"Asian and Western\": \"Asiática e Ocidental\",\n",
    "    \"Persian\": \"Persa\",\n",
    "    \"Balkan\": \"Balcânica\",\n",
    "    \"Emirati Cuisine\": \"Culinária Emiradense\",\n",
    "    \"Meats and Grills\": \"Carnes e Grelhados\",\n",
    "    \"South American\": \"Sul-Americana\",\n",
    "    \"Regional European\": \"Europeia Regional\",\n",
    "    \"Xibei\": \"Xibei\",\n",
    "    \"Noodles and Congee\": \"Macarrão e Congee\",\n",
    "    \"Swedish\": \"Sueca\",\n",
    "    \"Smørrebrød\": \"Smørrebrød\",\n",
    "    \"Danish\": \"Dinamarquesa\",\n",
    "    \"Brazilian\": \"Brasileira\",\n",
    "    \"Unagi / Freshwater Eel\": \"Unagi / Enguia de Água Doce\",\n",
    "    \"Soba\": \"Soba\",\n",
    "    \"Kushiage\": \"Kushiage\",\n",
    "    \"Ramen\": \"Ramen\",\n",
    "    \"Ningbo\": \"Ningbo\",\n",
    "    \"Cuban\": \"Cubana\",\n",
    "    \"Nepali\": \"Nepalesa\",\n",
    "    \"Bakery\": \"Padaria\",\n",
    "    \"Izakaya\": \"Izakaya\",\n",
    "    \"Tonkatsu\": \"Tonkatsu\",\n",
    "    \"Udon\": \"Udon\",\n",
    "    \"Oden\": \"Oden\",\n",
    "    \"Yoshoku\": \"Yoshoku\",\n",
    "    \"Shojin\": \"Shojin\",\n",
    "    \"Obanzai\": \"Obanzai\",\n",
    "    \"World Cuisine\": \"Culinária Mundial\",\n",
    "    \"Alpine\": \"Alpina\",\n",
    "    \"Home Cooking\": \"Culinária Caseira\",\n",
    "    \"Savoyard\": \"Savoiana\",\n",
    "    \"Corsican\": \"Corsa\",\n",
    "    \"Alsatian\": \"Alsaciana\",\n",
    "    \"Catalan\": \"Catalã\",\n",
    "    \"Breton\": \"Bretã\",\n",
    "    \"Cantonese Roast Meats\": \"Carnes Assadas Cantonês\",\n",
    "    \"Chiu Chow\": \"Chiu Chow\",\n",
    "    \"Macanese\": \"Macaense\",\n",
    "    \"Singaporean and Malaysian\": \"Singapurense e Malaia\",\n",
    "    \"Xinjiang\": \"Xinjiang\",\n",
    "    \"Shun Tak\": \"Shun Tak\",\n",
    "    \"Belgian\": \"Belga\",\n",
    "    \"Cuisine from South West France\": \"Culinária do Sudoeste da França\",\n",
    "    \"Dwaeji-gukbap\": \"Dwaeji-gukbap\",\n",
    "    \"Gomtang\": \"Gomtang\",\n",
    "    \"Naengmyeon\": \"Naengmyeon\",\n",
    "    \"Chueotang\": \"Chueotang\",\n",
    "    \"Gejang\": \"Gejang\",\n",
    "    \"Yukhoe\": \"Yukhoe\",\n",
    "    \"Bulgogi\": \"Bulgogi\",\n",
    "    \"Memil-guksu\": \"Memil-guksu\",\n",
    "    \"Mandu\": \"Mandu\",\n",
    "    \"Seolleongtang\": \"Seolleongtang\",\n",
    "    \"Dubu\": \"Dubu\",\n",
    "    \"Jokbal\": \"Jokbal\",\n",
    "    \"Doganitang\": \"Doganitang\",\n",
    "    \"Kalguksu\": \"Kalguksu\",\n",
    "    \"Sujebi\": \"Sujebi\",\n",
    "    \"South Indian\": \"Sul da Índia\",\n",
    "    \"North African\": \"Norte-Africana\",\n",
    "    \"Creole\": \"Crioula\",\n",
    "    \"Scottish\": \"Escocesa\",\n",
    "    \"South African\": \"Sul-Africana\",\n",
    "    \"Sri Lankan\": \"Cingalesa\",\n",
    "    \"Isan\": \"Isan\",\n",
    "    \"Thai-Chinese\": \"Tailandesa-Chinesa\",\n",
    "    \"Northern Thai\": \"Norte da Tailândia\",\n",
    "    \"Onigiri\": \"Onigiri\",\n",
    "    \"Pork\": \"Porco\",\n",
    "    \"Galician\": \"Galega\",\n",
    "    \"Rice Dishes\": \"Pratos de Arroz\",\n",
    "    \"Basque\": \"Basca\",\n",
    "    \"Andalusian\": \"Andaluza\",\n",
    "    \"Argentinian\": \"Argentina\",\n",
    "    \"Tuscan\": \"Toscana\",\n",
    "    \"Venetian\": \"Veneziana\",\n",
    "    \"Emilian\": \"Emiliana\",\n",
    "    \"Cuisine from Valtellina\": \"Culinária de Valtellina\",\n",
    "    \"Sicilian\": \"Siciliana\",\n",
    "    \"Cuisine from Abruzzo\": \"Culinária de Abruzzo\",\n",
    "    \"Sardinian\": \"Sarda\",\n",
    "    \"Cuisine from the Marches\": \"Culinária das Marcas\",\n",
    "    \"Lombardian\": \"Lombarda\",\n",
    "    \"Apulian\": \"Apuliana\",\n",
    "    \"Mantuan\": \"Mantovana\",\n",
    "    \"Roman\": \"Romana\",\n",
    "    \"Cuisine from Basilicata\": \"Culinária da Basilicata\",\n",
    "    \"Umbrian\": \"Umbra\",\n",
    "    \"Ligurian\": \"Liguriana\",\n",
    "    \"South Tyrolean\": \"Sul-Tirolense\",\n",
    "    \"Cuisine from Lazio\": \"Culinária do Lácio\",\n",
    "    \"Campanian\": \"Campana\",\n",
    "    \"Friulian\": \"Friulana\",\n",
    "    \"Cuisine from Romagna\": \"Culinária da Romagna\",\n",
    "    \"Calabrian\": \"Calabresa\",\n",
    "    \"Cuisine from the Aosta Valley\": \"Culinária do Vale de Aosta\",\n",
    "    \"Caribbean\": \"Caribenha\",\n",
    "    \"Afghan\": \"Afegã\",\n",
    "    \"Tibetan\": \"Tibetana\",\n",
    "    \"Tex-Mex\": \"Tex-Mex\",\n",
    "    \"Central Asian\": \"Centro-Asiática\",\n",
    "    \"Croatian\": \"Croata\",\n",
    "    \"Czech\": \"Tcheca\",\n",
    "    \"Polish\": \"Polonesa\",\n",
    "    \"Hotpot\": \"Hotpot\",\n",
    "    \"Shandong\": \"Shandong\",\n",
    "    \"Hubei\": \"Hubei\",\n",
    "    \"Swiss\": \"Suíça\",\n",
    "    \"Hungarian\": \"Húngara\",\n",
    "    \"Yunnanese\": \"Yunnanesa\",\n",
    "    \"Shabu-shabu\": \"Shabu-shabu\",\n",
    "    \"Sukiyaki\": \"Sukiyaki\",\n",
    "    \"Armenian\": \"Armênia\",\n",
    "    \"Puerto Rican\": \"Porto-Riquenha\",\n",
    "    \"Moroccan\": \"Marroquina\",\n",
    "    \"Meats and Seafood\": \"Carnes e Frutos do Mar\",\n",
    "    \"Asturian\": \"Asturiana\",\n",
    "    \"Lyonnaise\": \"Lionesa\",\n",
    "    \"American Contemporary\": \"Americana Contemporânea\",\n",
    "    \"Hainanese\": \"Hainanesa\",\n",
    "    \"Finnish\": \"Finlandesa\",\n",
    "    \"Italian and Japanese\": \"Italiana e Japonesa\",\n",
    "    \"Chicken Specialities\": \"Especialidades de Frango\",\n",
    "    \"Beef\": \"Carne de Vaca\",\n",
    "    \"Eastern European\": \"Europa Oriental\",\n",
    "    \"Lao\": \"Laosiana\",\n",
    "    \"Duck Specialities\": \"Especialidades de Pato\",\n",
    "    \"Bavarian\": \"Bávara\",\n",
    "    \"African\": \"Africana\",\n",
    "    \"Swabian\": \"Suábia\",\n",
    "    \"Burgundian\": \"Burgúndia\",\n",
    "    \"Cheese\": \"Queijo\",\n",
    "    \"Australian Contemporary\": \"Australiana Contemporânea\",\n",
    "    \"Flemish\": \"Flamenga\",\n",
    "    \"Irish\": \"Irlandesa\",\n",
    "    \"Castilian\": \"Castelhana\",\n",
    "    \"Lamb Specialities\": \"Especialidades de Cordeiro\",\n",
    "    \"Japanese Steakhouse\": \"Churrascaria Japonesa\",\n",
    "    \"Hui Cuisine\": \"Culinária Hui\",\n",
    "    \"Milanese\": \"Milanesa\",\n",
    "    \"Russian\": \"Russa\",\n",
    "    \"English\": \"Inglesa\",\n",
    "    \"Jamaican\": \"Jamaicana\",\n",
    "    \"Venezuelan\": \"Venezuelana\",\n",
    "    \"Hawaiian\": \"Havaiana\",\n",
    "    \"North American\": \"Norte-Americana\",\n",
    "    \"Egyptian\": \"Egípcia\",\n",
    "}\n",
    "\n",
    "# Creste column \"Cuisine_br\"\n",
    "df[\"Cuisine_br\"] = df[\"Cuisine\"].map(cuisine_br)"
   ]
  },
  {
   "cell_type": "markdown",
   "metadata": {},
   "source": [
    "#### Price"
   ]
  },
  {
   "cell_type": "code",
   "execution_count": 235,
   "metadata": {},
   "outputs": [
    {
     "name": "stdout",
     "output_type": "stream",
     "text": [
      "['3 Stars' '2 Stars' '1 Star' 'Bib Gourmand' 'Selected Restaurants']\n"
     ]
    }
   ],
   "source": [
    "unique_award = df[\"Award\"].unique()\n",
    "print(unique_award)"
   ]
  },
  {
   "cell_type": "code",
   "execution_count": 236,
   "metadata": {},
   "outputs": [],
   "source": [
    "award_br = {\"3 Stars\": \"3 Estrelas\",\n",
    "              \"2 Stars\": \"2 Estrelas\",\n",
    "              \"1 Star\": \"1 Estrela\",\n",
    "              \"Bib Gourmand\": \"Bib Gourmand\",\n",
    "              \"Selected Restaurants\": \"Restaurante selecionado\",\n",
    "              }\n",
    "\n",
    "# Creste column \"Award_br\"\n",
    "df[\"Award_br\"] = df[\"Award\"].map(award_br)"
   ]
  },
  {
   "cell_type": "markdown",
   "metadata": {},
   "source": [
    "### Add scraped images"
   ]
  },
  {
   "cell_type": "code",
   "execution_count": null,
   "metadata": {},
   "outputs": [],
   "source": [
    "df_scrap = pd.read_csv(\"data/scraper/images_url.csv\")"
   ]
  },
  {
   "cell_type": "code",
   "execution_count": 238,
   "metadata": {},
   "outputs": [],
   "source": [
    "df_final = pd.merge(df, df_scrap, on='Address', suffixes=('', '_drop')).drop(columns=['Name_drop'])"
   ]
  },
  {
   "cell_type": "markdown",
   "metadata": {},
   "source": [
    "### Save dataset"
   ]
  },
  {
   "cell_type": "code",
   "execution_count": 239,
   "metadata": {},
   "outputs": [],
   "source": [
    "# Drop column \"PhoneNumber\"\n",
    "df_final = df_final.drop(columns=['City', 'Country', 'Country_br'])"
   ]
  },
  {
   "cell_type": "code",
   "execution_count": 241,
   "metadata": {},
   "outputs": [],
   "source": [
    "# Convert all columns in the list to type \"category\"\n",
    "columns_category = [\"Location\", \"Price\", \"Price_dollar\", \"Cuisine\", \"Cuisine_br\", \"Award\", \"Award_br\", \"Location_br\"]\n",
    "\n",
    "for column in columns_category:\n",
    "    df_final[column] = df_final[column].astype(\"category\")"
   ]
  },
  {
   "cell_type": "code",
   "execution_count": 242,
   "metadata": {},
   "outputs": [
    {
     "name": "stdout",
     "output_type": "stream",
     "text": [
      "<class 'pandas.core.frame.DataFrame'>\n",
      "RangeIndex: 15498 entries, 0 to 15497\n",
      "Data columns (total 16 columns):\n",
      " #   Column         Non-Null Count  Dtype   \n",
      "---  ------         --------------  -----   \n",
      " 0   Name           15498 non-null  object  \n",
      " 1   Address        15498 non-null  object  \n",
      " 2   Location       15498 non-null  category\n",
      " 3   Price          15498 non-null  category\n",
      " 4   Cuisine        15498 non-null  category\n",
      " 5   Longitude      15498 non-null  float64 \n",
      " 6   Latitude       15498 non-null  float64 \n",
      " 7   Award          15498 non-null  category\n",
      " 8   GreenStar      15498 non-null  object  \n",
      " 9   Price_dollar   15498 non-null  category\n",
      " 10  Award_info_en  15498 non-null  object  \n",
      " 11  Award_info_br  15498 non-null  object  \n",
      " 12  Location_br    15480 non-null  category\n",
      " 13  Cuisine_br     15498 non-null  category\n",
      " 14  Award_br       15498 non-null  category\n",
      " 15  ImageURL       15498 non-null  object  \n",
      "dtypes: category(8), float64(2), object(6)\n",
      "memory usage: 1.5+ MB\n"
     ]
    }
   ],
   "source": [
    "df_final.info()"
   ]
  },
  {
   "cell_type": "code",
   "execution_count": null,
   "metadata": {},
   "outputs": [],
   "source": [
    "\n",
    "df_final.to_parquet(\"data/ready/michelin.parquet\")"
   ]
  },
  {
   "cell_type": "code",
   "execution_count": 244,
   "metadata": {},
   "outputs": [
    {
     "data": {
      "text/html": [
       "<div>\n",
       "<style scoped>\n",
       "    .dataframe tbody tr th:only-of-type {\n",
       "        vertical-align: middle;\n",
       "    }\n",
       "\n",
       "    .dataframe tbody tr th {\n",
       "        vertical-align: top;\n",
       "    }\n",
       "\n",
       "    .dataframe thead th {\n",
       "        text-align: right;\n",
       "    }\n",
       "</style>\n",
       "<table border=\"1\" class=\"dataframe\">\n",
       "  <thead>\n",
       "    <tr style=\"text-align: right;\">\n",
       "      <th></th>\n",
       "      <th>Name</th>\n",
       "      <th>Address</th>\n",
       "      <th>Location</th>\n",
       "      <th>Price</th>\n",
       "      <th>Cuisine</th>\n",
       "      <th>Longitude</th>\n",
       "      <th>Latitude</th>\n",
       "      <th>Award</th>\n",
       "      <th>GreenStar</th>\n",
       "      <th>Price_dollar</th>\n",
       "      <th>Award_info_en</th>\n",
       "      <th>Award_info_br</th>\n",
       "      <th>Location_br</th>\n",
       "      <th>Cuisine_br</th>\n",
       "      <th>Award_br</th>\n",
       "      <th>ImageURL</th>\n",
       "    </tr>\n",
       "  </thead>\n",
       "  <tbody>\n",
       "    <tr>\n",
       "      <th>0</th>\n",
       "      <td>Taïrroir</td>\n",
       "      <td>6F, 299 Lequn 3rd Road, Zhongshan District, Ta...</td>\n",
       "      <td>Taipei, Taiwan</td>\n",
       "      <td>$$$$</td>\n",
       "      <td>Taiwanese contemporary</td>\n",
       "      <td>121.559303</td>\n",
       "      <td>25.082896</td>\n",
       "      <td>3 Stars</td>\n",
       "      <td>No</td>\n",
       "      <td>$$$$</td>\n",
       "      <td>Exceptional cuisine</td>\n",
       "      <td>Cozinha excepcional</td>\n",
       "      <td>Taipei, Taiwan</td>\n",
       "      <td>Taiwanesa contemporânea</td>\n",
       "      <td>3 Estrelas</td>\n",
       "      <td>https://axwwgrkdco.cloudimg.io/v7/__gmpics3__/...</td>\n",
       "    </tr>\n",
       "    <tr>\n",
       "      <th>1</th>\n",
       "      <td>JL Studio</td>\n",
       "      <td>2F, 689, Section 4, Yifeng Road, Nantun Distri...</td>\n",
       "      <td>Taichung, Taiwan</td>\n",
       "      <td>$$$$</td>\n",
       "      <td>Singaporean</td>\n",
       "      <td>120.628520</td>\n",
       "      <td>24.150486</td>\n",
       "      <td>3 Stars</td>\n",
       "      <td>No</td>\n",
       "      <td>$$$$</td>\n",
       "      <td>Exceptional cuisine</td>\n",
       "      <td>Cozinha excepcional</td>\n",
       "      <td>Taichung, Taiwan</td>\n",
       "      <td>Singapurense</td>\n",
       "      <td>3 Estrelas</td>\n",
       "      <td>https://axwwgrkdco.cloudimg.io/v7/__gmpics3__/...</td>\n",
       "    </tr>\n",
       "    <tr>\n",
       "      <th>2</th>\n",
       "      <td>Le Palais</td>\n",
       "      <td>17F, Palais de Chine Hotel, 3, Section 1, Chen...</td>\n",
       "      <td>Taipei, Taiwan</td>\n",
       "      <td>$$$$</td>\n",
       "      <td>Cantonese</td>\n",
       "      <td>121.516889</td>\n",
       "      <td>25.049163</td>\n",
       "      <td>3 Stars</td>\n",
       "      <td>No</td>\n",
       "      <td>$$$$</td>\n",
       "      <td>Exceptional cuisine</td>\n",
       "      <td>Cozinha excepcional</td>\n",
       "      <td>Taipei, Taiwan</td>\n",
       "      <td>Cantonês</td>\n",
       "      <td>3 Estrelas</td>\n",
       "      <td>https://axwwgrkdco.cloudimg.io/v7/__gmpics3__/...</td>\n",
       "    </tr>\n",
       "  </tbody>\n",
       "</table>\n",
       "</div>"
      ],
      "text/plain": [
       "        Name                                            Address  \\\n",
       "0   Taïrroir  6F, 299 Lequn 3rd Road, Zhongshan District, Ta...   \n",
       "1  JL Studio  2F, 689, Section 4, Yifeng Road, Nantun Distri...   \n",
       "2  Le Palais  17F, Palais de Chine Hotel, 3, Section 1, Chen...   \n",
       "\n",
       "           Location Price                 Cuisine   Longitude   Latitude  \\\n",
       "0    Taipei, Taiwan  $$$$  Taiwanese contemporary  121.559303  25.082896   \n",
       "1  Taichung, Taiwan  $$$$             Singaporean  120.628520  24.150486   \n",
       "2    Taipei, Taiwan  $$$$               Cantonese  121.516889  25.049163   \n",
       "\n",
       "     Award GreenStar Price_dollar        Award_info_en        Award_info_br  \\\n",
       "0  3 Stars        No         $$$$  Exceptional cuisine  Cozinha excepcional   \n",
       "1  3 Stars        No         $$$$  Exceptional cuisine  Cozinha excepcional   \n",
       "2  3 Stars        No         $$$$  Exceptional cuisine  Cozinha excepcional   \n",
       "\n",
       "        Location_br               Cuisine_br    Award_br  \\\n",
       "0    Taipei, Taiwan  Taiwanesa contemporânea  3 Estrelas   \n",
       "1  Taichung, Taiwan             Singapurense  3 Estrelas   \n",
       "2    Taipei, Taiwan                 Cantonês  3 Estrelas   \n",
       "\n",
       "                                            ImageURL  \n",
       "0  https://axwwgrkdco.cloudimg.io/v7/__gmpics3__/...  \n",
       "1  https://axwwgrkdco.cloudimg.io/v7/__gmpics3__/...  \n",
       "2  https://axwwgrkdco.cloudimg.io/v7/__gmpics3__/...  "
      ]
     },
     "execution_count": 244,
     "metadata": {},
     "output_type": "execute_result"
    }
   ],
   "source": [
    "df_final.head(3)"
   ]
  }
 ],
 "metadata": {
  "kernelspec": {
   "display_name": "base",
   "language": "python",
   "name": "python3"
  },
  "language_info": {
   "codemirror_mode": {
    "name": "ipython",
    "version": 3
   },
   "file_extension": ".py",
   "mimetype": "text/x-python",
   "name": "python",
   "nbconvert_exporter": "python",
   "pygments_lexer": "ipython3",
   "version": "3.11.5"
  }
 },
 "nbformat": 4,
 "nbformat_minor": 2
}
