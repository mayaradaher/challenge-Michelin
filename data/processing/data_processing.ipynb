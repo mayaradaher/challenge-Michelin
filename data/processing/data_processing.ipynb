{
 "cells": [
  {
   "cell_type": "code",
   "execution_count": 209,
   "metadata": {},
   "outputs": [],
   "source": [
    "import pandas as pd\n",
    "import numpy as np"
   ]
  },
  {
   "cell_type": "markdown",
   "metadata": {},
   "source": [
    "### Import dataset"
   ]
  },
  {
   "cell_type": "code",
   "execution_count": 210,
   "metadata": {},
   "outputs": [],
   "source": [
    "df = pd.read_csv(\"data/raw/michelin_by_Jerry_Ng.csv\") "
   ]
  },
  {
   "cell_type": "markdown",
   "metadata": {},
   "source": [
    "### Exploratory data analysis"
   ]
  },
  {
   "cell_type": "code",
   "execution_count": 211,
   "metadata": {},
   "outputs": [
    {
     "data": {
      "text/html": [
       "<div>\n",
       "<style scoped>\n",
       "    .dataframe tbody tr th:only-of-type {\n",
       "        vertical-align: middle;\n",
       "    }\n",
       "\n",
       "    .dataframe tbody tr th {\n",
       "        vertical-align: top;\n",
       "    }\n",
       "\n",
       "    .dataframe thead th {\n",
       "        text-align: right;\n",
       "    }\n",
       "</style>\n",
       "<table border=\"1\" class=\"dataframe\">\n",
       "  <thead>\n",
       "    <tr style=\"text-align: right;\">\n",
       "      <th></th>\n",
       "      <th>Name</th>\n",
       "      <th>Address</th>\n",
       "      <th>Location</th>\n",
       "      <th>Price</th>\n",
       "      <th>Cuisine</th>\n",
       "      <th>Longitude</th>\n",
       "      <th>Latitude</th>\n",
       "      <th>PhoneNumber</th>\n",
       "      <th>Url</th>\n",
       "      <th>WebsiteUrl</th>\n",
       "      <th>Award</th>\n",
       "      <th>GreenStar</th>\n",
       "      <th>FacilitiesAndServices</th>\n",
       "      <th>Description</th>\n",
       "    </tr>\n",
       "  </thead>\n",
       "  <tbody>\n",
       "    <tr>\n",
       "      <th>0</th>\n",
       "      <td>Taïrroir</td>\n",
       "      <td>6F, 299 Lequn 3rd Road, Zhongshan District, Ta...</td>\n",
       "      <td>Taipei, Taiwan</td>\n",
       "      <td>$$$$</td>\n",
       "      <td>Taiwanese contemporary</td>\n",
       "      <td>121.559303</td>\n",
       "      <td>25.082896</td>\n",
       "      <td>8.862850e+11</td>\n",
       "      <td>https://guide.michelin.com/en/taipei-region/ta...</td>\n",
       "      <td>https://www.tairroir.com/</td>\n",
       "      <td>3 Stars</td>\n",
       "      <td>0</td>\n",
       "      <td>Air conditioning,Wheelchair access</td>\n",
       "      <td>A portmanteau of Taiwan and terroir, Taïrroir ...</td>\n",
       "    </tr>\n",
       "    <tr>\n",
       "      <th>1</th>\n",
       "      <td>JL Studio</td>\n",
       "      <td>2F, 689, Section 4, Yifeng Road, Nantun Distri...</td>\n",
       "      <td>Taichung, Taiwan</td>\n",
       "      <td>$$$$</td>\n",
       "      <td>Singaporean, Contemporary</td>\n",
       "      <td>120.628520</td>\n",
       "      <td>24.150486</td>\n",
       "      <td>8.864238e+11</td>\n",
       "      <td>https://guide.michelin.com/en/taichung-region/...</td>\n",
       "      <td>https://jlstudiotw.com</td>\n",
       "      <td>3 Stars</td>\n",
       "      <td>0</td>\n",
       "      <td>Air conditioning,Car park,Wheelchair access</td>\n",
       "      <td>JL stands for Jimmy Lim, a Singaporean chef wh...</td>\n",
       "    </tr>\n",
       "    <tr>\n",
       "      <th>2</th>\n",
       "      <td>Le Palais</td>\n",
       "      <td>17F, Palais de Chine Hotel, 3, Section 1, Chen...</td>\n",
       "      <td>Taipei, Taiwan</td>\n",
       "      <td>$$$$</td>\n",
       "      <td>Cantonese</td>\n",
       "      <td>121.516889</td>\n",
       "      <td>25.049163</td>\n",
       "      <td>8.862218e+11</td>\n",
       "      <td>https://guide.michelin.com/en/taipei-region/ta...</td>\n",
       "      <td>https://www.palaisdechinehotel.com/pdc-en/page...</td>\n",
       "      <td>3 Stars</td>\n",
       "      <td>0</td>\n",
       "      <td>Air conditioning,Car park,Wheelchair access</td>\n",
       "      <td>After the departure of the Macanese chef, the ...</td>\n",
       "    </tr>\n",
       "  </tbody>\n",
       "</table>\n",
       "</div>"
      ],
      "text/plain": [
       "        Name                                            Address  \\\n",
       "0   Taïrroir  6F, 299 Lequn 3rd Road, Zhongshan District, Ta...   \n",
       "1  JL Studio  2F, 689, Section 4, Yifeng Road, Nantun Distri...   \n",
       "2  Le Palais  17F, Palais de Chine Hotel, 3, Section 1, Chen...   \n",
       "\n",
       "           Location Price                    Cuisine   Longitude   Latitude  \\\n",
       "0    Taipei, Taiwan  $$$$     Taiwanese contemporary  121.559303  25.082896   \n",
       "1  Taichung, Taiwan  $$$$  Singaporean, Contemporary  120.628520  24.150486   \n",
       "2    Taipei, Taiwan  $$$$                  Cantonese  121.516889  25.049163   \n",
       "\n",
       "    PhoneNumber                                                Url  \\\n",
       "0  8.862850e+11  https://guide.michelin.com/en/taipei-region/ta...   \n",
       "1  8.864238e+11  https://guide.michelin.com/en/taichung-region/...   \n",
       "2  8.862218e+11  https://guide.michelin.com/en/taipei-region/ta...   \n",
       "\n",
       "                                          WebsiteUrl    Award  GreenStar  \\\n",
       "0                          https://www.tairroir.com/  3 Stars          0   \n",
       "1                             https://jlstudiotw.com  3 Stars          0   \n",
       "2  https://www.palaisdechinehotel.com/pdc-en/page...  3 Stars          0   \n",
       "\n",
       "                         FacilitiesAndServices  \\\n",
       "0           Air conditioning,Wheelchair access   \n",
       "1  Air conditioning,Car park,Wheelchair access   \n",
       "2  Air conditioning,Car park,Wheelchair access   \n",
       "\n",
       "                                         Description  \n",
       "0  A portmanteau of Taiwan and terroir, Taïrroir ...  \n",
       "1  JL stands for Jimmy Lim, a Singaporean chef wh...  \n",
       "2  After the departure of the Macanese chef, the ...  "
      ]
     },
     "execution_count": 211,
     "metadata": {},
     "output_type": "execute_result"
    }
   ],
   "source": [
    "df.head(3)"
   ]
  },
  {
   "cell_type": "code",
   "execution_count": 212,
   "metadata": {},
   "outputs": [
    {
     "data": {
      "text/plain": [
       "(15520, 14)"
      ]
     },
     "execution_count": 212,
     "metadata": {},
     "output_type": "execute_result"
    }
   ],
   "source": [
    "df.shape"
   ]
  },
  {
   "cell_type": "code",
   "execution_count": 213,
   "metadata": {},
   "outputs": [
    {
     "name": "stdout",
     "output_type": "stream",
     "text": [
      "<class 'pandas.core.frame.DataFrame'>\n",
      "RangeIndex: 15520 entries, 0 to 15519\n",
      "Data columns (total 14 columns):\n",
      " #   Column                 Non-Null Count  Dtype  \n",
      "---  ------                 --------------  -----  \n",
      " 0   Name                   15520 non-null  object \n",
      " 1   Address                15520 non-null  object \n",
      " 2   Location               15520 non-null  object \n",
      " 3   Price                  15519 non-null  object \n",
      " 4   Cuisine                15519 non-null  object \n",
      " 5   Longitude              15520 non-null  float64\n",
      " 6   Latitude               15520 non-null  float64\n",
      " 7   PhoneNumber            15182 non-null  float64\n",
      " 8   Url                    15520 non-null  object \n",
      " 9   WebsiteUrl             13245 non-null  object \n",
      " 10  Award                  15520 non-null  object \n",
      " 11  GreenStar              15520 non-null  int64  \n",
      " 12  FacilitiesAndServices  14665 non-null  object \n",
      " 13  Description            15519 non-null  object \n",
      "dtypes: float64(3), int64(1), object(10)\n",
      "memory usage: 1.7+ MB\n"
     ]
    }
   ],
   "source": [
    "df.info()  # data type"
   ]
  },
  {
   "cell_type": "code",
   "execution_count": 214,
   "metadata": {},
   "outputs": [
    {
     "data": {
      "text/plain": [
       "Award\n",
       "Selected Restaurants    10484\n",
       "Bib Gourmand             3238\n",
       "1 Star                   1160\n",
       "2 Stars                   493\n",
       "3 Stars                   145\n",
       "Name: count, dtype: int64"
      ]
     },
     "execution_count": 214,
     "metadata": {},
     "output_type": "execute_result"
    }
   ],
   "source": [
    "df[\n",
    "    \"Award\"\n",
    "].value_counts()"
   ]
  },
  {
   "cell_type": "code",
   "execution_count": 215,
   "metadata": {},
   "outputs": [
    {
     "data": {
      "text/plain": [
       "GreenStar\n",
       "0    15279\n",
       "1      241\n",
       "Name: count, dtype: int64"
      ]
     },
     "execution_count": 215,
     "metadata": {},
     "output_type": "execute_result"
    }
   ],
   "source": [
    "df[\n",
    "    \"GreenStar\"\n",
    "].value_counts()"
   ]
  },
  {
   "cell_type": "code",
   "execution_count": 216,
   "metadata": {},
   "outputs": [
    {
     "data": {
      "text/plain": [
       "14980"
      ]
     },
     "execution_count": 216,
     "metadata": {},
     "output_type": "execute_result"
    }
   ],
   "source": [
    "df[\n",
    "    \"Name\"\n",
    "].nunique()"
   ]
  },
  {
   "cell_type": "code",
   "execution_count": 217,
   "metadata": {},
   "outputs": [
    {
     "data": {
      "text/plain": [
       "826"
      ]
     },
     "execution_count": 217,
     "metadata": {},
     "output_type": "execute_result"
    }
   ],
   "source": [
    "df[\n",
    "    \"FacilitiesAndServices\"\n",
    "].nunique()"
   ]
  },
  {
   "cell_type": "code",
   "execution_count": 218,
   "metadata": {},
   "outputs": [
    {
     "data": {
      "text/plain": [
       "Cuisine\n",
       "Modern Cuisine           2425\n",
       "Traditional Cuisine       760\n",
       "Creative                  461\n",
       "Japanese                  458\n",
       "Italian                   404\n",
       "Contemporary              400\n",
       "Seafood                   353\n",
       "French                    319\n",
       "Street Food               308\n",
       "Modern British            252\n",
       "Mediterranean Cuisine     210\n",
       "Classic Cuisine           206\n",
       "Farm to table             195\n",
       "Thai                      171\n",
       "Cantonese                 165\n",
       "Name: count, dtype: int64"
      ]
     },
     "execution_count": 218,
     "metadata": {},
     "output_type": "execute_result"
    }
   ],
   "source": [
    "df[\n",
    "    \"Cuisine\"\n",
    "].value_counts().head(15)"
   ]
  },
  {
   "cell_type": "code",
   "execution_count": 219,
   "metadata": {},
   "outputs": [
    {
     "data": {
      "text/plain": [
       "Price\n",
       "€€      4675\n",
       "€€€     2773\n",
       "€€€€    1278\n",
       "$$      1155\n",
       "$$$      838\n",
       "$$$$     625\n",
       "¥¥¥      573\n",
       "€        553\n",
       "$        495\n",
       "££       451\n",
       "¥¥       414\n",
       "£££      301\n",
       "฿฿       210\n",
       "¥        198\n",
       "¥¥¥¥     156\n",
       "฿        128\n",
       "££££     116\n",
       "₩         87\n",
       "₫         76\n",
       "฿฿฿       71\n",
       "₩₩        57\n",
       "₫₫        48\n",
       "₺₺        46\n",
       "₩₩₩       32\n",
       "₩₩₩₩      31\n",
       "฿฿฿฿      29\n",
       "₫₫₫       25\n",
       "₺₺₺       20\n",
       "₫₫₫₫      15\n",
       "₺₺₺₺      15\n",
       "£         14\n",
       "₺         14\n",
       "Name: count, dtype: int64"
      ]
     },
     "execution_count": 219,
     "metadata": {},
     "output_type": "execute_result"
    }
   ],
   "source": [
    "df[\n",
    "    \"Price\"\n",
    "].value_counts()"
   ]
  },
  {
   "cell_type": "markdown",
   "metadata": {},
   "source": [
    "### Data cleaning"
   ]
  },
  {
   "cell_type": "code",
   "execution_count": 220,
   "metadata": {},
   "outputs": [],
   "source": [
    "# Drop columns\n",
    "df = df.drop(columns=[\"PhoneNumber\", \"Url\", \"WebsiteUrl\", \"Description\"])"
   ]
  },
  {
   "cell_type": "code",
   "execution_count": 221,
   "metadata": {},
   "outputs": [],
   "source": [
    "# Remove rows with NA values ​​only from columns \"Price\" and \"Cuisine\"\n",
    "df = df.dropna(subset=[\"Price\", \"Cuisine\"])"
   ]
  },
  {
   "cell_type": "code",
   "execution_count": 222,
   "metadata": {},
   "outputs": [],
   "source": [
    "# Insert new column with price in dollars only\n",
    "def convert_to_dollars(price):\n",
    "    return \"$\" * len(price)\n",
    "\n",
    "df[\"Price_dollar\"] = df[\"Price\"].apply(convert_to_dollars)"
   ]
  },
  {
   "cell_type": "code",
   "execution_count": 223,
   "metadata": {},
   "outputs": [],
   "source": [
    "# Change 0 and 1 in the \"GreenStar\" column to Yes and No\n",
    "df[\"GreenStar\"] = df[\"GreenStar\"].replace({0: \"No\", 1: \"Yes\"})"
   ]
  },
  {
   "cell_type": "code",
   "execution_count": 224,
   "metadata": {},
   "outputs": [],
   "source": [
    "# Remove all cuisine types after comma\n",
    "df[\"Cuisine\"] = df[\"Cuisine\"].str.split(\",\").str[0].str.strip()"
   ]
  },
  {
   "cell_type": "code",
   "execution_count": 225,
   "metadata": {},
   "outputs": [
    {
     "data": {
      "text/plain": [
       "259"
      ]
     },
     "execution_count": 225,
     "metadata": {},
     "output_type": "execute_result"
    }
   ],
   "source": [
    "df[\n",
    "    \"Cuisine\"\n",
    "].nunique()"
   ]
  },
  {
   "cell_type": "code",
   "execution_count": 226,
   "metadata": {},
   "outputs": [],
   "source": [
    "# Normalize commas and return three items\n",
    "def clean_facilities(phrase):\n",
    "    if not isinstance(phrase, str):\n",
    "        return phrase  # Return the original value if it's not a string\n",
    "\n",
    "    # Normalize commas and split the phrase into items\n",
    "    items = phrase.replace(\",\", \", \").split(\", \")\n",
    "    \n",
    "    # Remove extra spaces and filter out empty items\n",
    "    cleaned_items = [item.strip() for item in items if item.strip()]\n",
    "    \n",
    "    # Return the first three items formatted\n",
    "    return \", \".join(cleaned_items[:3])\n",
    "\n",
    "df[\"FacilitiesAndServices\"] = df[\"FacilitiesAndServices\"].apply(clean_facilities)"
   ]
  },
  {
   "cell_type": "markdown",
   "metadata": {},
   "source": [
    "### Create columns"
   ]
  },
  {
   "cell_type": "code",
   "execution_count": 227,
   "metadata": {},
   "outputs": [],
   "source": [
    "# Split \"Location\" column\n",
    "df[['City', 'Country']] = df['Location'].str.split(',', n=1, expand=True).apply(lambda x: x.str.strip())"
   ]
  },
  {
   "cell_type": "code",
   "execution_count": 228,
   "metadata": {},
   "outputs": [
    {
     "data": {
      "text/html": [
       "<div>\n",
       "<style scoped>\n",
       "    .dataframe tbody tr th:only-of-type {\n",
       "        vertical-align: middle;\n",
       "    }\n",
       "\n",
       "    .dataframe tbody tr th {\n",
       "        vertical-align: top;\n",
       "    }\n",
       "\n",
       "    .dataframe thead th {\n",
       "        text-align: right;\n",
       "    }\n",
       "</style>\n",
       "<table border=\"1\" class=\"dataframe\">\n",
       "  <thead>\n",
       "    <tr style=\"text-align: right;\">\n",
       "      <th></th>\n",
       "      <th>City</th>\n",
       "      <th>Country</th>\n",
       "    </tr>\n",
       "  </thead>\n",
       "  <tbody>\n",
       "    <tr>\n",
       "      <th>9</th>\n",
       "      <td>Singapore</td>\n",
       "      <td>None</td>\n",
       "    </tr>\n",
       "    <tr>\n",
       "      <th>67</th>\n",
       "      <td>Hong Kong</td>\n",
       "      <td>None</td>\n",
       "    </tr>\n",
       "    <tr>\n",
       "      <th>70</th>\n",
       "      <td>Macau</td>\n",
       "      <td>None</td>\n",
       "    </tr>\n",
       "    <tr>\n",
       "      <th>163</th>\n",
       "      <td>Dubai</td>\n",
       "      <td>None</td>\n",
       "    </tr>\n",
       "    <tr>\n",
       "      <th>3314</th>\n",
       "      <td>Luxembourg</td>\n",
       "      <td>None</td>\n",
       "    </tr>\n",
       "    <tr>\n",
       "      <th>3811</th>\n",
       "      <td>Abu Dhabi</td>\n",
       "      <td>None</td>\n",
       "    </tr>\n",
       "  </tbody>\n",
       "</table>\n",
       "</div>"
      ],
      "text/plain": [
       "            City Country\n",
       "9      Singapore    None\n",
       "67     Hong Kong    None\n",
       "70         Macau    None\n",
       "163        Dubai    None\n",
       "3314  Luxembourg    None\n",
       "3811   Abu Dhabi    None"
      ]
     },
     "execution_count": 228,
     "metadata": {},
     "output_type": "execute_result"
    }
   ],
   "source": [
    "# Identify rows with NA\n",
    "df[df['Country'].isna()][['City', 'Country']].drop_duplicates()\n"
   ]
  },
  {
   "cell_type": "code",
   "execution_count": 229,
   "metadata": {},
   "outputs": [],
   "source": [
    "location = {\"Singapore\": \"Republic of Singapore\",\n",
    "              \"Hong Kong\": \"Hong Kong SAR China\",\n",
    "              \"Macau\": \"Macau SAR China\",\n",
    "              \"Dubai\": \"United Arab Emirates\",\n",
    "              \"Abu Dhabi\": \"United Arab Emirates\",\n",
    "              \"Luxembourg\": \"Luxembourg\",\n",
    "              }\n",
    "\n",
    "# Replace values ​​in the 'Country' column where they are NA\n",
    "df['Country'] = df['Country'].fillna(df['City'].map(location))"
   ]
  },
  {
   "cell_type": "code",
   "execution_count": 230,
   "metadata": {},
   "outputs": [],
   "source": [
    "# Replaces \"Luxembourg\" with NA in 'City' where 'City' and 'Country' are both \"Luxembourg\"\n",
    "df.loc[df[['City', 'Country']].eq(\"Luxembourg\").all(axis=1), 'City'] = np.nan\n"
   ]
  },
  {
   "cell_type": "code",
   "execution_count": 231,
   "metadata": {},
   "outputs": [],
   "source": [
    "# Create more detailed information for the column\n",
    "award_info_en = {\"3 Stars\": \"Exceptional cuisine\",\n",
    "              \"2 Stars\": \"Excellent cooking\",\n",
    "              \"1 Star\": \"High quality cooking\",\n",
    "              \"Bib Gourmand\": \"Good quality, good value cooking\",\n",
    "              \"Selected Restaurants\": \"Good cooking\",\n",
    "              }\n",
    "\n",
    "df[\"Award_info_en\"] = df[\"Award\"].map(award_info_en)"
   ]
  },
  {
   "cell_type": "code",
   "execution_count": 232,
   "metadata": {},
   "outputs": [],
   "source": [
    "# Create more detailed information for the column and create translation\n",
    "award_info_br = {\"3 Stars\": \"Cozinha excepcional\",\n",
    "              \"2 Stars\": \"Cozinha excelente\",\n",
    "              \"1 Star\": \"Cozinha requintada\",\n",
    "              \"Bib Gourmand\": \"Melhor relação qualidade-preço \",\n",
    "              \"Selected Restaurants\": \"Boa cozinha\",\n",
    "              }\n",
    "\n",
    "df[\"Award_info_br\"] = df[\"Award\"].map(award_info_br)"
   ]
  },
  {
   "cell_type": "markdown",
   "metadata": {},
   "source": [
    "### Translate columns"
   ]
  },
  {
   "cell_type": "code",
   "execution_count": 233,
   "metadata": {},
   "outputs": [],
   "source": [
    "from googletrans import Translator\n",
    "import asyncio"
   ]
  },
  {
   "cell_type": "code",
   "execution_count": 234,
   "metadata": {},
   "outputs": [],
   "source": [
    "translator = Translator()\n",
    "\n",
    "async def translate_text(text, src=\"en\", dest=\"pt\"):\n",
    "    try:\n",
    "        translated = (await translator.translate(text, src=src, dest=dest)).text\n",
    "        return translated.capitalize()\n",
    "    except Exception:\n",
    "        return text.capitalize()\n",
    "\n",
    "async def translate_column(column):\n",
    "    unique_values = column.unique()\n",
    "    translations = await asyncio.gather(*(translate_text(text) for text in unique_values))\n",
    "    translation_dict = dict(zip(unique_values, translations))\n",
    "    return column.map(translation_dict)"
   ]
  },
  {
   "cell_type": "markdown",
   "metadata": {},
   "source": [
    "#### FacilitiesAndServices"
   ]
  },
  {
   "cell_type": "code",
   "execution_count": 235,
   "metadata": {},
   "outputs": [],
   "source": [
    "df[\"FacilitiesAndServices_br\"] = await translate_column(df[\"FacilitiesAndServices\"])"
   ]
  },
  {
   "cell_type": "markdown",
   "metadata": {},
   "source": [
    "#### Country and Location"
   ]
  },
  {
   "cell_type": "code",
   "execution_count": 236,
   "metadata": {},
   "outputs": [
    {
     "name": "stdout",
     "output_type": "stream",
     "text": [
      "['Taiwan' 'USA' 'Republic of Singapore' 'Slovenia' 'Sweden' 'Denmark'\n",
      " 'Norway' 'Japan' 'Germany' 'France' 'Hong Kong SAR China'\n",
      " 'Macau SAR China' 'Belgium' 'United Kingdom' 'Spain' 'China Mainland'\n",
      " 'Italy' 'Switzerland' 'Netherlands' 'Austria' 'United Arab Emirates'\n",
      " 'Croatia' 'Poland' 'Finland' 'Estonia' 'Brazil' 'Mexico' 'Malta'\n",
      " 'Portugal' 'Luxembourg' 'South Korea' 'Ireland' 'Thailand' 'Argentina'\n",
      " 'Malaysia' 'Türkiye' 'Greece' 'Canada' 'Hungary' 'Vietnam' 'Lithuania'\n",
      " 'Iceland' 'Serbia' 'Latvia' 'Czech Republic' 'Czechia' 'Andorra']\n"
     ]
    }
   ],
   "source": [
    "unique_award = df[\"Country\"].unique()\n",
    "print(unique_award)"
   ]
  },
  {
   "cell_type": "code",
   "execution_count": 237,
   "metadata": {},
   "outputs": [],
   "source": [
    "df[\"Country_br\"] = await translate_column(df[\"Country\"])"
   ]
  },
  {
   "cell_type": "code",
   "execution_count": 238,
   "metadata": {},
   "outputs": [],
   "source": [
    "# Create column \"Location_br\"\n",
    "df[\"Location_br\"] = df[\"City\"] + \", \" + df[\"Country_br\"]"
   ]
  },
  {
   "cell_type": "code",
   "execution_count": 239,
   "metadata": {},
   "outputs": [
    {
     "data": {
      "text/html": [
       "<div>\n",
       "<style scoped>\n",
       "    .dataframe tbody tr th:only-of-type {\n",
       "        vertical-align: middle;\n",
       "    }\n",
       "\n",
       "    .dataframe tbody tr th {\n",
       "        vertical-align: top;\n",
       "    }\n",
       "\n",
       "    .dataframe thead th {\n",
       "        text-align: right;\n",
       "    }\n",
       "</style>\n",
       "<table border=\"1\" class=\"dataframe\">\n",
       "  <thead>\n",
       "    <tr style=\"text-align: right;\">\n",
       "      <th></th>\n",
       "      <th>Location</th>\n",
       "      <th>Location_br</th>\n",
       "    </tr>\n",
       "  </thead>\n",
       "  <tbody>\n",
       "    <tr>\n",
       "      <th>3314</th>\n",
       "      <td>Luxembourg</td>\n",
       "      <td>NaN</td>\n",
       "    </tr>\n",
       "  </tbody>\n",
       "</table>\n",
       "</div>"
      ],
      "text/plain": [
       "        Location Location_br\n",
       "3314  Luxembourg         NaN"
      ]
     },
     "execution_count": 239,
     "metadata": {},
     "output_type": "execute_result"
    }
   ],
   "source": [
    "# Check missing values\n",
    "df[df['Location_br'].isna()][['Location', 'Location_br']].drop_duplicates()\n"
   ]
  },
  {
   "cell_type": "code",
   "execution_count": 240,
   "metadata": {},
   "outputs": [],
   "source": [
    "# Manually translate missing values\n",
    "translation_map = {\n",
    "    'Luxembourg': 'Luxemburgo',\n",
    "}\n",
    "\n",
    "df['Location_br'] = df.apply(\n",
    "    lambda row: translation_map.get(row['Location'], row['Location_br']), axis=1\n",
    ")"
   ]
  },
  {
   "cell_type": "markdown",
   "metadata": {},
   "source": [
    "#### Cuisine"
   ]
  },
  {
   "cell_type": "code",
   "execution_count": 241,
   "metadata": {},
   "outputs": [
    {
     "name": "stdout",
     "output_type": "stream",
     "text": [
      "['Taiwanese contemporary' 'Singaporean' 'Cantonese' 'Contemporary' 'Asian'\n",
      " 'European Contemporary' 'French Contemporary' 'French' 'Creative'\n",
      " 'Modern Cuisine' 'Japanese' 'Innovative' 'Classic French' 'Modern French'\n",
      " 'Seafood' 'Classic Cuisine' 'Mediterranean Cuisine' 'Italian' 'Sushi'\n",
      " 'Creative French' 'Creative British' 'Modern British' 'Chinese'\n",
      " 'Italian Contemporary' 'American' 'Vegan' 'Chao Zhou' 'Taizhou'\n",
      " 'Vegetarian' 'Spanish Contemporary' 'Asian Contemporary' 'Tempura'\n",
      " 'Mexican' 'Californian' 'Indian' 'British Contemporary' 'Scandinavian'\n",
      " 'Hunanese' 'Huaiyang' 'Traditional Cuisine' 'Asian Influences' 'Korean'\n",
      " 'Turkish' 'Traditional British' 'Thai contemporary' 'German'\n",
      " 'Southern Thai' 'Thai' 'Spanish' 'Malaysian' 'Country cooking'\n",
      " 'International' 'Piedmontese' 'Beijing Cuisine' 'Shanghainese' 'Sharing'\n",
      " 'Farm to table' 'Japanese Contemporary' 'Sichuan' 'Organic'\n",
      " 'Latin American' 'Taiwanese' 'Hang Zhou' 'Barbecue' 'Steakhouse'\n",
      " 'Portuguese' 'Indian Vegetarian' 'Vietnamese Contemporary' 'Teppanyaki'\n",
      " 'Vietnamese' 'Teochew' 'Korean Contemporary' 'Street Food' 'Peranakan'\n",
      " 'European' 'Dim Sum' 'Fujian' 'Grills' 'Norwegian' 'Zhejiang'\n",
      " 'Chinese Contemporary' 'Peruvian' 'Colombian' 'Fusion'\n",
      " 'Fugu / Pufferfish' 'Yakitori' 'Seasonal Cuisine' 'Austrian' 'Israeli'\n",
      " 'Regional Cuisine' 'Provençal' 'Greek' 'Noodles' 'Small eats' 'Dumplings'\n",
      " 'Indonesian' 'Congee' 'Jiangzhe' 'Hakkanese' 'Pizza' 'Filipino'\n",
      " 'Southern' 'Gastropub' 'Deli' 'Italian-American' 'Middle Eastern'\n",
      " 'Burmese' 'Pakistani' 'Ethiopian' 'South East Asian' 'Lebanese'\n",
      " 'Asian and Western' 'Persian' 'Balkan' 'Emirati Cuisine'\n",
      " 'Meats and Grills' 'South American' 'Regional European' 'Xibei'\n",
      " 'Noodles and Congee' 'Swedish' 'Smørrebrød' 'Danish' 'Brazilian'\n",
      " 'Unagi / Freshwater Eel' 'Soba' 'Kushiage' 'Ramen' 'Ningbo' 'Cuban'\n",
      " 'Nepali' 'Bakery' 'Izakaya' 'Tonkatsu' 'Udon' 'Oden' 'Yoshoku' 'Shojin'\n",
      " 'Obanzai' 'World Cuisine' 'Alpine' 'Home Cooking' 'Savoyard' 'Corsican'\n",
      " 'Alsatian' 'Catalan' 'Breton' 'Cantonese Roast Meats' 'Chiu Chow'\n",
      " 'Macanese' 'Singaporean and Malaysian' 'Xinjiang' 'Shun Tak' 'Belgian'\n",
      " 'Cuisine from South West France' 'Dwaeji-gukbap' 'Gomtang' 'Naengmyeon'\n",
      " 'Chueotang' 'Gejang' 'Yukhoe' 'Bulgogi' 'Memil-guksu' 'Mandu'\n",
      " 'Seolleongtang' 'Dubu' 'Jokbal' 'Doganitang' 'Kalguksu' 'Sujebi'\n",
      " 'South Indian' 'North African' 'Creole' 'Scottish' 'South African'\n",
      " 'Sri Lankan' 'Isan' 'Thai-Chinese' 'Northern Thai' 'Onigiri' 'Pork'\n",
      " 'Galician' 'Rice Dishes' 'Basque' 'Andalusian' 'Argentinian' 'Tuscan'\n",
      " 'Venetian' 'Emilian' 'Cuisine from Valtellina' 'Sicilian'\n",
      " 'Cuisine from Abruzzo' 'Sardinian' 'Cuisine from the Marches'\n",
      " 'Lombardian' 'Apulian' 'Mantuan' 'Roman' 'Cuisine from Basilicata'\n",
      " 'Umbrian' 'Ligurian' 'South Tyrolean' 'Cuisine from Lazio' 'Campanian'\n",
      " 'Friulian' 'Cuisine from Romagna' 'Calabrian'\n",
      " 'Cuisine from the Aosta Valley' 'Caribbean' 'Afghan' 'Tibetan' 'Tex-Mex'\n",
      " 'Central Asian' 'Croatian' 'Czech' 'Polish' 'Hotpot' 'Shandong' 'Hubei'\n",
      " 'Swiss' 'Hungarian' 'Yunnanese' 'Shabu-shabu' 'Sukiyaki' 'Armenian'\n",
      " 'Puerto Rican' 'Moroccan' 'Meats and Seafood' 'Asturian' 'Lyonnaise'\n",
      " 'American Contemporary' 'Hainanese' 'Finnish' 'Italian and Japanese'\n",
      " 'Chicken Specialities' 'Beef' 'Eastern European' 'Lao'\n",
      " 'Duck Specialities' 'Bavarian' 'African' 'Swabian' 'Burgundian' 'Cheese'\n",
      " 'Australian Contemporary' 'Flemish' 'Irish' 'Castilian'\n",
      " 'Lamb Specialities' 'Japanese Steakhouse' 'Hui Cuisine' 'Milanese'\n",
      " 'Russian' 'English' 'Jamaican' 'Venezuelan' 'Hawaiian' 'North American'\n",
      " 'Egyptian']\n"
     ]
    }
   ],
   "source": [
    "unique_cuisines = df[\"Cuisine\"].unique()\n",
    "print(unique_cuisines)"
   ]
  },
  {
   "cell_type": "code",
   "execution_count": 242,
   "metadata": {},
   "outputs": [],
   "source": [
    "df[\"Cuisine_br\"] = await translate_column(df[\"Cuisine\"])"
   ]
  },
  {
   "cell_type": "markdown",
   "metadata": {},
   "source": [
    "#### Price"
   ]
  },
  {
   "cell_type": "code",
   "execution_count": 243,
   "metadata": {},
   "outputs": [
    {
     "name": "stdout",
     "output_type": "stream",
     "text": [
      "['3 Stars' '2 Stars' '1 Star' 'Bib Gourmand' 'Selected Restaurants']\n"
     ]
    }
   ],
   "source": [
    "unique_award = df[\"Award\"].unique()\n",
    "print(unique_award)"
   ]
  },
  {
   "cell_type": "code",
   "execution_count": 244,
   "metadata": {},
   "outputs": [],
   "source": [
    "df[\"Award_br\"] = await translate_column(df[\"Award\"])"
   ]
  },
  {
   "cell_type": "markdown",
   "metadata": {},
   "source": [
    "### Add scraped images"
   ]
  },
  {
   "cell_type": "code",
   "execution_count": 245,
   "metadata": {},
   "outputs": [],
   "source": [
    "df_scrap = pd.read_csv(\"data/scraper/images_url.csv\")"
   ]
  },
  {
   "cell_type": "code",
   "execution_count": 246,
   "metadata": {},
   "outputs": [],
   "source": [
    "df_final = pd.merge(df, df_scrap, on=\"Address\", suffixes=(\"\", \"_drop\")).drop(columns=[\"Name_drop\"])"
   ]
  },
  {
   "cell_type": "markdown",
   "metadata": {},
   "source": [
    "### Save dataset"
   ]
  },
  {
   "cell_type": "code",
   "execution_count": 247,
   "metadata": {},
   "outputs": [],
   "source": [
    "# Drop columns\n",
    "df_final = df_final.drop(columns=[\"City\", \"Country\", \"Country_br\"])"
   ]
  },
  {
   "cell_type": "code",
   "execution_count": 248,
   "metadata": {},
   "outputs": [],
   "source": [
    "# Convert all columns in the list to type \"category\"\n",
    "columns_category = [\"Location\", \"Location_br\", \"Price\", \"Price_dollar\", \"Cuisine\", \"Cuisine_br\", \"Award\", \"Award_br\", \"FacilitiesAndServices\", \"FacilitiesAndServices_br\"]\n",
    "\n",
    "for column in columns_category:\n",
    "    df_final[column] = df_final[column].astype(\"category\")"
   ]
  },
  {
   "cell_type": "code",
   "execution_count": 249,
   "metadata": {},
   "outputs": [
    {
     "name": "stdout",
     "output_type": "stream",
     "text": [
      "<class 'pandas.core.frame.DataFrame'>\n",
      "RangeIndex: 15498 entries, 0 to 15497\n",
      "Data columns (total 18 columns):\n",
      " #   Column                    Non-Null Count  Dtype   \n",
      "---  ------                    --------------  -----   \n",
      " 0   Name                      15498 non-null  object  \n",
      " 1   Address                   15498 non-null  object  \n",
      " 2   Location                  15498 non-null  category\n",
      " 3   Price                     15498 non-null  category\n",
      " 4   Cuisine                   15498 non-null  category\n",
      " 5   Longitude                 15498 non-null  float64 \n",
      " 6   Latitude                  15498 non-null  float64 \n",
      " 7   Award                     15498 non-null  category\n",
      " 8   GreenStar                 15498 non-null  object  \n",
      " 9   FacilitiesAndServices     14662 non-null  category\n",
      " 10  Price_dollar              15498 non-null  category\n",
      " 11  Award_info_en             15498 non-null  object  \n",
      " 12  Award_info_br             15498 non-null  object  \n",
      " 13  FacilitiesAndServices_br  15498 non-null  category\n",
      " 14  Location_br               15498 non-null  category\n",
      " 15  Cuisine_br                15498 non-null  category\n",
      " 16  Award_br                  15498 non-null  category\n",
      " 17  ImageURL                  15498 non-null  object  \n",
      "dtypes: category(10), float64(2), object(6)\n",
      "memory usage: 1.6+ MB\n"
     ]
    }
   ],
   "source": [
    "df_final.info()"
   ]
  },
  {
   "cell_type": "code",
   "execution_count": 250,
   "metadata": {},
   "outputs": [],
   "source": [
    "df_final.to_parquet(\"data/ready/michelin.parquet\")"
   ]
  },
  {
   "cell_type": "code",
   "execution_count": 251,
   "metadata": {},
   "outputs": [
    {
     "data": {
      "text/html": [
       "<div>\n",
       "<style scoped>\n",
       "    .dataframe tbody tr th:only-of-type {\n",
       "        vertical-align: middle;\n",
       "    }\n",
       "\n",
       "    .dataframe tbody tr th {\n",
       "        vertical-align: top;\n",
       "    }\n",
       "\n",
       "    .dataframe thead th {\n",
       "        text-align: right;\n",
       "    }\n",
       "</style>\n",
       "<table border=\"1\" class=\"dataframe\">\n",
       "  <thead>\n",
       "    <tr style=\"text-align: right;\">\n",
       "      <th></th>\n",
       "      <th>Name</th>\n",
       "      <th>Address</th>\n",
       "      <th>Location</th>\n",
       "      <th>Price</th>\n",
       "      <th>Cuisine</th>\n",
       "      <th>Longitude</th>\n",
       "      <th>Latitude</th>\n",
       "      <th>Award</th>\n",
       "      <th>GreenStar</th>\n",
       "      <th>FacilitiesAndServices</th>\n",
       "      <th>Price_dollar</th>\n",
       "      <th>Award_info_en</th>\n",
       "      <th>Award_info_br</th>\n",
       "      <th>FacilitiesAndServices_br</th>\n",
       "      <th>Location_br</th>\n",
       "      <th>Cuisine_br</th>\n",
       "      <th>Award_br</th>\n",
       "      <th>ImageURL</th>\n",
       "    </tr>\n",
       "  </thead>\n",
       "  <tbody>\n",
       "    <tr>\n",
       "      <th>0</th>\n",
       "      <td>Taïrroir</td>\n",
       "      <td>6F, 299 Lequn 3rd Road, Zhongshan District, Ta...</td>\n",
       "      <td>Taipei, Taiwan</td>\n",
       "      <td>$$$$</td>\n",
       "      <td>Taiwanese contemporary</td>\n",
       "      <td>121.559303</td>\n",
       "      <td>25.082896</td>\n",
       "      <td>3 Stars</td>\n",
       "      <td>No</td>\n",
       "      <td>Air conditioning, Wheelchair access</td>\n",
       "      <td>$$$$</td>\n",
       "      <td>Exceptional cuisine</td>\n",
       "      <td>Cozinha excepcional</td>\n",
       "      <td>Ar condicionado, acesso a cadeira de rodas</td>\n",
       "      <td>Taipei, Taiwan</td>\n",
       "      <td>Contemporâneo de taiwan</td>\n",
       "      <td>3 estrelas</td>\n",
       "      <td>https://axwwgrkdco.cloudimg.io/v7/__gmpics3__/...</td>\n",
       "    </tr>\n",
       "    <tr>\n",
       "      <th>1</th>\n",
       "      <td>JL Studio</td>\n",
       "      <td>2F, 689, Section 4, Yifeng Road, Nantun Distri...</td>\n",
       "      <td>Taichung, Taiwan</td>\n",
       "      <td>$$$$</td>\n",
       "      <td>Singaporean</td>\n",
       "      <td>120.628520</td>\n",
       "      <td>24.150486</td>\n",
       "      <td>3 Stars</td>\n",
       "      <td>No</td>\n",
       "      <td>Air conditioning, Car park, Wheelchair access</td>\n",
       "      <td>$$$$</td>\n",
       "      <td>Exceptional cuisine</td>\n",
       "      <td>Cozinha excepcional</td>\n",
       "      <td>Ar condicionado, estacionamento, acesso a cade...</td>\n",
       "      <td>Taichung, Taiwan</td>\n",
       "      <td>Cingapura</td>\n",
       "      <td>3 estrelas</td>\n",
       "      <td>https://axwwgrkdco.cloudimg.io/v7/__gmpics3__/...</td>\n",
       "    </tr>\n",
       "    <tr>\n",
       "      <th>2</th>\n",
       "      <td>Le Palais</td>\n",
       "      <td>17F, Palais de Chine Hotel, 3, Section 1, Chen...</td>\n",
       "      <td>Taipei, Taiwan</td>\n",
       "      <td>$$$$</td>\n",
       "      <td>Cantonese</td>\n",
       "      <td>121.516889</td>\n",
       "      <td>25.049163</td>\n",
       "      <td>3 Stars</td>\n",
       "      <td>No</td>\n",
       "      <td>Air conditioning, Car park, Wheelchair access</td>\n",
       "      <td>$$$$</td>\n",
       "      <td>Exceptional cuisine</td>\n",
       "      <td>Cozinha excepcional</td>\n",
       "      <td>Ar condicionado, estacionamento, acesso a cade...</td>\n",
       "      <td>Taipei, Taiwan</td>\n",
       "      <td>Cantonês</td>\n",
       "      <td>3 estrelas</td>\n",
       "      <td>https://axwwgrkdco.cloudimg.io/v7/__gmpics3__/...</td>\n",
       "    </tr>\n",
       "  </tbody>\n",
       "</table>\n",
       "</div>"
      ],
      "text/plain": [
       "        Name                                            Address  \\\n",
       "0   Taïrroir  6F, 299 Lequn 3rd Road, Zhongshan District, Ta...   \n",
       "1  JL Studio  2F, 689, Section 4, Yifeng Road, Nantun Distri...   \n",
       "2  Le Palais  17F, Palais de Chine Hotel, 3, Section 1, Chen...   \n",
       "\n",
       "           Location Price                 Cuisine   Longitude   Latitude  \\\n",
       "0    Taipei, Taiwan  $$$$  Taiwanese contemporary  121.559303  25.082896   \n",
       "1  Taichung, Taiwan  $$$$             Singaporean  120.628520  24.150486   \n",
       "2    Taipei, Taiwan  $$$$               Cantonese  121.516889  25.049163   \n",
       "\n",
       "     Award GreenStar                          FacilitiesAndServices  \\\n",
       "0  3 Stars        No            Air conditioning, Wheelchair access   \n",
       "1  3 Stars        No  Air conditioning, Car park, Wheelchair access   \n",
       "2  3 Stars        No  Air conditioning, Car park, Wheelchair access   \n",
       "\n",
       "  Price_dollar        Award_info_en        Award_info_br  \\\n",
       "0         $$$$  Exceptional cuisine  Cozinha excepcional   \n",
       "1         $$$$  Exceptional cuisine  Cozinha excepcional   \n",
       "2         $$$$  Exceptional cuisine  Cozinha excepcional   \n",
       "\n",
       "                            FacilitiesAndServices_br       Location_br  \\\n",
       "0         Ar condicionado, acesso a cadeira de rodas    Taipei, Taiwan   \n",
       "1  Ar condicionado, estacionamento, acesso a cade...  Taichung, Taiwan   \n",
       "2  Ar condicionado, estacionamento, acesso a cade...    Taipei, Taiwan   \n",
       "\n",
       "                Cuisine_br    Award_br  \\\n",
       "0  Contemporâneo de taiwan  3 estrelas   \n",
       "1                Cingapura  3 estrelas   \n",
       "2                 Cantonês  3 estrelas   \n",
       "\n",
       "                                            ImageURL  \n",
       "0  https://axwwgrkdco.cloudimg.io/v7/__gmpics3__/...  \n",
       "1  https://axwwgrkdco.cloudimg.io/v7/__gmpics3__/...  \n",
       "2  https://axwwgrkdco.cloudimg.io/v7/__gmpics3__/...  "
      ]
     },
     "execution_count": 251,
     "metadata": {},
     "output_type": "execute_result"
    }
   ],
   "source": [
    "df_final.head(3)"
   ]
  }
 ],
 "metadata": {
  "kernelspec": {
   "display_name": ".venv",
   "language": "python",
   "name": "python3"
  },
  "language_info": {
   "codemirror_mode": {
    "name": "ipython",
    "version": 3
   },
   "file_extension": ".py",
   "mimetype": "text/x-python",
   "name": "python",
   "nbconvert_exporter": "python",
   "pygments_lexer": "ipython3",
   "version": "3.12.6"
  }
 },
 "nbformat": 4,
 "nbformat_minor": 2
}
