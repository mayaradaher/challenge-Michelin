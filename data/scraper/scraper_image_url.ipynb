{
 "cells": [
  {
   "cell_type": "code",
   "execution_count": 23,
   "metadata": {},
   "outputs": [],
   "source": [
    "import requests\n",
    "from bs4 import BeautifulSoup\n",
    "import csv\n",
    "import pandas as pd"
   ]
  },
  {
   "cell_type": "code",
   "execution_count": 24,
   "metadata": {},
   "outputs": [],
   "source": [
    "# Scrape the restaurant name, address and image from the scraped links\n",
    "def scrape_restaurant_info(url):\n",
    "    response = requests.get(url, allow_redirects=False)\n",
    "    soup = BeautifulSoup(response.content, \"html.parser\")\n",
    "\n",
    "    restaurant_title = soup.find(\"h1\", class_=\"data-sheet__title\")\n",
    "    restaurant_address = soup.find(\"div\", class_=\"data-sheet__block--text\")\n",
    "\n",
    "    title = restaurant_title.get_text(strip=True) if restaurant_title else \"N/A\"\n",
    "    address = restaurant_address.get_text(strip=True) if restaurant_address else \"N/A\"\n",
    "\n",
    "    image_tag = soup.find(\"div\", class_=\"masthead__gallery-image\")\n",
    "    image_url = image_tag.get(\"data-bg\") if image_tag else \"N/A\"\n",
    "\n",
    "    return title, address, image_url\n",
    "\n",
    "with open(\"links.csv\", \"r\") as file:\n",
    "    reader = csv.reader(file)\n",
    "    next(reader)  # Pular a primeira linha (título)\n",
    "    urls = [row[0] for row in reader]\n",
    "\n",
    "data = []\n",
    "\n",
    "for url in urls:\n",
    "    title, address, image_url = scrape_restaurant_info(url)\n",
    "    data.append([title, address, image_url])"
   ]
  },
  {
   "cell_type": "code",
   "execution_count": 25,
   "metadata": {},
   "outputs": [],
   "source": [
    "# Create and save dataframe\n",
    "df = pd.DataFrame(data, columns=[\"Name\", \"Address\", \"ImageURL\"])\n",
    "\n",
    "df.to_csv(\"images_url.csv\", index=False)"
   ]
  }
 ],
 "metadata": {
  "kernelspec": {
   "display_name": ".venv",
   "language": "python",
   "name": "python3"
  },
  "language_info": {
   "codemirror_mode": {
    "name": "ipython",
    "version": 3
   },
   "file_extension": ".py",
   "mimetype": "text/x-python",
   "name": "python",
   "nbconvert_exporter": "python",
   "pygments_lexer": "ipython3",
   "version": "3.12.6"
  }
 },
 "nbformat": 4,
 "nbformat_minor": 2
}
