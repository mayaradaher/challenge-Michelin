{
 "cells": [
  {
   "cell_type": "code",
   "execution_count": 9,
   "metadata": {},
   "outputs": [],
   "source": [
    "import requests\n",
    "from bs4 import BeautifulSoup\n",
    "import pandas as pd"
   ]
  },
  {
   "cell_type": "code",
   "execution_count": 10,
   "metadata": {},
   "outputs": [],
   "source": [
    "# URL Michelin\n",
    "url = \"https://guide.michelin.com/en/restaurants/page/{}\"\n",
    "\n",
    "\n",
    "# Function to find the total number of pages\n",
    "def get_total_pages():\n",
    "    response = requests.get(url.format(1))\n",
    "    soup = BeautifulSoup(response.content, \"html.parser\")\n",
    "    class_names = soup.find_all(\n",
    "        \"a\",\n",
    "        class_=[\n",
    "            \"btn btn-outline-secondary btn-sm active\",\n",
    "            \"btn btn-outline-secondary btn-sm\",\n",
    "        ],\n",
    "    )\n",
    "    total_pages = max(\n",
    "        [\n",
    "            int(class_name.text)\n",
    "            for class_name in class_names\n",
    "            if class_name.text.isdigit()\n",
    "        ]\n",
    "    )\n",
    "    return total_pages"
   ]
  },
  {
   "cell_type": "code",
   "execution_count": 11,
   "metadata": {},
   "outputs": [],
   "source": [
    "# Scrape all restaurant links\n",
    "def find_all_links():\n",
    "    total_pages = get_total_pages()\n",
    "    links = []\n",
    "    for page in range(1, total_pages + 1):\n",
    "        response = requests.get(url.format(page))\n",
    "        soup = BeautifulSoup(response.content, \"html.parser\")\n",
    "        for link in soup.find_all(\"a\", href=True):\n",
    "            if \"/restaurant/\" in link[\"href\"]:\n",
    "                full_link = \"https://guide.michelin.com\" + link[\"href\"]\n",
    "                links.append(full_link)\n",
    "    return links"
   ]
  },
  {
   "cell_type": "code",
   "execution_count": 12,
   "metadata": {},
   "outputs": [
    {
     "name": "stdout",
     "output_type": "stream",
     "text": [
      "                                                   Links\n",
      "0      https://guide.michelin.com/en/vaud/vevey/resta...\n",
      "1      https://guide.michelin.com/en/vaud/vevey/resta...\n",
      "2      https://guide.michelin.com/en/vaud/vevey/resta...\n",
      "3      https://guide.michelin.com/en/geneve-region/ge...\n",
      "4      https://guide.michelin.com/en/geneve-region/ge...\n",
      "...                                                  ...\n",
      "56686  https://guide.michelin.com/en/prague/prague/re...\n",
      "56687  https://guide.michelin.com/en/prague/prague/re...\n",
      "56688  https://guide.michelin.com/en/prague/prague/re...\n",
      "56689  https://guide.michelin.com/en/prague/prague/re...\n",
      "56690  https://guide.michelin.com/en/prague/prague/re...\n",
      "\n",
      "[56691 rows x 1 columns]\n"
     ]
    }
   ],
   "source": [
    "# Create the dataframe with the links\n",
    "def create_links_dataframe():\n",
    "    all_links = find_all_links()\n",
    "    if all_links:\n",
    "        # Cria o DataFrame com uma coluna 'Links'\n",
    "        df = pd.DataFrame(all_links, columns=[\"Links\"])\n",
    "        return df\n",
    "    else:\n",
    "        print(\"No links found.\")\n",
    "        return None\n",
    "    \n",
    "df_links = create_links_dataframe()\n",
    "if df_links is not None:\n",
    "    print(df_links)\n",
    "else:\n",
    "    print(\"Error creating DataFrame.\")"
   ]
  },
  {
   "cell_type": "code",
   "execution_count": 13,
   "metadata": {},
   "outputs": [],
   "source": [
    "# Remove duplicates and save dataframe\n",
    "df_links = df_links.drop_duplicates()\n",
    "\n",
    "df_links.to_csv(\"links.csv\", index=False)"
   ]
  }
 ],
 "metadata": {
  "kernelspec": {
   "display_name": "base",
   "language": "python",
   "name": "python3"
  },
  "language_info": {
   "codemirror_mode": {
    "name": "ipython",
    "version": 3
   },
   "file_extension": ".py",
   "mimetype": "text/x-python",
   "name": "python",
   "nbconvert_exporter": "python",
   "pygments_lexer": "ipython3",
   "version": "3.11.5"
  }
 },
 "nbformat": 4,
 "nbformat_minor": 2
}
